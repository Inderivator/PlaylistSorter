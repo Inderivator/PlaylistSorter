{
  "nbformat": 4,
  "nbformat_minor": 0,
  "metadata": {
    "colab": {
      "provenance": [],
      "machine_shape": "hm",
      "gpuType": "V100",
      "authorship_tag": "ABX9TyN8MUaSR8V1QSu7sH5GxAag",
      "include_colab_link": true
    },
    "kernelspec": {
      "name": "python3",
      "display_name": "Python 3"
    },
    "language_info": {
      "name": "python"
    },
    "accelerator": "GPU"
  },
  "cells": [
    {
      "cell_type": "markdown",
      "metadata": {
        "id": "view-in-github",
        "colab_type": "text"
      },
      "source": [
        "<a href=\"https://colab.research.google.com/github/Inderivator/PlaylistSorter/blob/Playlist-sorter/Etape_finale_AI_Playlist_Sorter.ipynb\" target=\"_parent\"><img src=\"https://colab.research.google.com/assets/colab-badge.svg\" alt=\"Open In Colab\"/></a>"
      ]
    },
    {
      "cell_type": "markdown",
      "source": [
        "Convertir les séquences musicales en spectrogrammes"
      ],
      "metadata": {
        "id": "SHb4VnLDJdgv"
      }
    },
    {
      "cell_type": "code",
      "execution_count": null,
      "metadata": {
        "colab": {
          "base_uri": "https://localhost:8080/"
        },
        "id": "T_j9r4AWz1NI",
        "outputId": "1b0fa133-c646-4212-a956-92faf95657e8"
      },
      "outputs": [
        {
          "output_type": "stream",
          "name": "stdout",
          "text": [
            "Mounted at /content/drive\n"
          ]
        }
      ],
      "source": [
        "from google.colab import drive\n",
        "import librosa\n",
        "from librosa.util import fix_length\n",
        "import numpy as np\n",
        "import random\n",
        "\n",
        "# Monter Google Drive\n",
        "drive.mount('/content/drive', force_remount=True)\n",
        "\n",
        "# Chemin vers les fichiers audio sur Google Drive\n",
        "audio_dir = \"/content/drive/MyDrive/Playlistsorter/Fichieraudio\"\n",
        "\n",
        "# Fonction pour charger un fichier audio et le convertir en spectrogramme\n",
        "def load_and_convert_to_spectrogram(audio_file):\n",
        "    # Charger le fichier audio\n",
        "    audio_path = f\"{audio_dir}/{audio_file}\"\n",
        "    y, sr = librosa.load(audio_path, sr=None)\n",
        "\n",
        "    # Convertir en spectrogramme\n",
        "    spectrogram = librosa.feature.melspectrogram(y=y, sr=sr)\n",
        "    return spectrogram\n",
        "\n",
        "# Liste pour stocker les playlists de spectrogrammes\n",
        "X_train = []\n",
        "X_train_shuffled = []\n",
        "\n",
        "# Charger et convertir les 5 fichiers audio en spectrogrammes\n",
        "for i in range(1, 6):  # Changer la plage de 1 à 6 pour charger 5 fichiers\n",
        "    audio_file = f\"Fichier{i}.mp3\"\n",
        "    spectrogram = load_and_convert_to_spectrogram(audio_file)\n",
        "\n",
        "    # Ajouter le spectrogramme à la playlist\n",
        "    X_train.append(spectrogram)\n",
        "\n",
        "    # Ajouter le spectrogramme à la playlist mélangée\n",
        "    X_train_shuffled.append(spectrogram)"
      ]
    },
    {
      "cell_type": "code",
      "source": [
        "# Mélanger aléatoirement l'ordre des spectrogrammes dans la liste X_train_shuffled\n",
        "random.shuffle(X_train_shuffled)\n",
        "\n",
        "# Déterminer la longueur maximale des spectrogrammes\n",
        "max_length = max(spectrogram.shape[1] for spectrogram in X_train)\n",
        "print(max_length)\n",
        "\n",
        "\n",
        "# Padding ou troncature des spectrogrammes à la longueur maximale\n",
        "for i in range(len(X_train)):\n",
        "    X_train[i] = fix_length(X_train[i], size=max_length)\n",
        "\n",
        "for i in range(len(X_train_shuffled)):\n",
        "    X_train_shuffled[i] = fix_length(X_train_shuffled[i], size=max_length)\n",
        "\n",
        "# Convertir les playlists en un tableau numpy\n",
        "X_train_array = np.array(X_train)\n",
        "print(X_train_array)\n",
        "print(X_train_array.shape)\n",
        "\n",
        "# Convertir les playlists mélangées en un tableau numpy\n",
        "X_train_shuffled_array = np.array(X_train_shuffled)\n",
        "print(X_train_shuffled_array.shape)\n"
      ],
      "metadata": {
        "colab": {
          "base_uri": "https://localhost:8080/"
        },
        "id": "56Hn-wzcTCC5",
        "outputId": "3a11bf3c-d275-493d-f28f-7cbfe22bd64d"
      },
      "execution_count": null,
      "outputs": [
        {
          "output_type": "stream",
          "name": "stdout",
          "text": [
            "36313\n",
            "[[[0.0000000e+00 0.0000000e+00 0.0000000e+00 ... 0.0000000e+00\n",
            "   0.0000000e+00 0.0000000e+00]\n",
            "  [0.0000000e+00 0.0000000e+00 0.0000000e+00 ... 0.0000000e+00\n",
            "   0.0000000e+00 0.0000000e+00]\n",
            "  [0.0000000e+00 0.0000000e+00 0.0000000e+00 ... 0.0000000e+00\n",
            "   0.0000000e+00 0.0000000e+00]\n",
            "  ...\n",
            "  [0.0000000e+00 0.0000000e+00 0.0000000e+00 ... 0.0000000e+00\n",
            "   0.0000000e+00 0.0000000e+00]\n",
            "  [0.0000000e+00 0.0000000e+00 0.0000000e+00 ... 0.0000000e+00\n",
            "   0.0000000e+00 0.0000000e+00]\n",
            "  [0.0000000e+00 0.0000000e+00 0.0000000e+00 ... 0.0000000e+00\n",
            "   0.0000000e+00 0.0000000e+00]]\n",
            "\n",
            " [[3.4630075e-30 1.8736212e-24 6.5240442e-18 ... 0.0000000e+00\n",
            "   0.0000000e+00 0.0000000e+00]\n",
            "  [3.4085398e-30 3.5420683e-24 1.6963514e-17 ... 0.0000000e+00\n",
            "   0.0000000e+00 0.0000000e+00]\n",
            "  [2.2877038e-30 6.7841565e-24 1.8928738e-17 ... 0.0000000e+00\n",
            "   0.0000000e+00 0.0000000e+00]\n",
            "  ...\n",
            "  [2.0554107e-37 4.2012503e-30 2.0178428e-27 ... 0.0000000e+00\n",
            "   0.0000000e+00 0.0000000e+00]\n",
            "  [2.0528074e-37 2.8944113e-30 2.3898044e-27 ... 0.0000000e+00\n",
            "   0.0000000e+00 0.0000000e+00]\n",
            "  [2.5684958e-37 4.0243111e-30 2.7283109e-27 ... 0.0000000e+00\n",
            "   0.0000000e+00 0.0000000e+00]]\n",
            "\n",
            " [[2.6546215e-10 6.9912642e-10 1.2232129e-04 ... 0.0000000e+00\n",
            "   0.0000000e+00 0.0000000e+00]\n",
            "  [1.0548072e-10 8.4638740e-10 1.2971002e-04 ... 0.0000000e+00\n",
            "   0.0000000e+00 0.0000000e+00]\n",
            "  [8.9022720e-11 3.1759146e-09 1.7285296e-04 ... 0.0000000e+00\n",
            "   0.0000000e+00 0.0000000e+00]\n",
            "  ...\n",
            "  [8.6878343e-12 2.1528486e-12 1.3151912e-12 ... 0.0000000e+00\n",
            "   0.0000000e+00 0.0000000e+00]\n",
            "  [7.9318002e-12 1.9664971e-12 1.1356958e-12 ... 0.0000000e+00\n",
            "   0.0000000e+00 0.0000000e+00]\n",
            "  [7.5248375e-12 1.8661229e-12 3.7011227e-12 ... 0.0000000e+00\n",
            "   0.0000000e+00 0.0000000e+00]]\n",
            "\n",
            " [[1.9368041e-08 2.6723500e-03 1.6081534e-02 ... 0.0000000e+00\n",
            "   0.0000000e+00 0.0000000e+00]\n",
            "  [1.5755003e-08 1.1442972e-02 6.6468522e-02 ... 0.0000000e+00\n",
            "   0.0000000e+00 0.0000000e+00]\n",
            "  [5.3849871e-09 4.0833455e-02 1.5373451e+00 ... 0.0000000e+00\n",
            "   0.0000000e+00 0.0000000e+00]\n",
            "  ...\n",
            "  [1.3384112e-12 3.0660488e-11 3.5283795e-10 ... 0.0000000e+00\n",
            "   0.0000000e+00 0.0000000e+00]\n",
            "  [1.2559681e-12 2.2313170e-11 4.0442324e-10 ... 0.0000000e+00\n",
            "   0.0000000e+00 0.0000000e+00]\n",
            "  [1.2423654e-12 2.7274681e-11 1.6480223e-10 ... 0.0000000e+00\n",
            "   0.0000000e+00 0.0000000e+00]]\n",
            "\n",
            " [[1.7238672e-21 9.0048368e-20 4.6353728e-19 ... 0.0000000e+00\n",
            "   0.0000000e+00 0.0000000e+00]\n",
            "  [1.7426266e-21 1.0077823e-18 1.2874859e-18 ... 0.0000000e+00\n",
            "   0.0000000e+00 0.0000000e+00]\n",
            "  [4.0518850e-22 4.4461843e-18 1.0631692e-17 ... 0.0000000e+00\n",
            "   0.0000000e+00 0.0000000e+00]\n",
            "  ...\n",
            "  [1.0594369e-29 3.4962155e-26 7.0238967e-25 ... 0.0000000e+00\n",
            "   0.0000000e+00 0.0000000e+00]\n",
            "  [4.0869037e-29 2.7382237e-26 5.6504588e-25 ... 0.0000000e+00\n",
            "   0.0000000e+00 0.0000000e+00]\n",
            "  [1.5125533e-29 2.5689189e-26 6.5746739e-25 ... 0.0000000e+00\n",
            "   0.0000000e+00 0.0000000e+00]]]\n",
            "(5, 128, 36313)\n",
            "(5, 128, 36313)\n"
          ]
        }
      ]
    },
    {
      "cell_type": "markdown",
      "source": [
        "Test affichage spectrogrammes"
      ],
      "metadata": {
        "id": "xcACblhTpV75"
      }
    },
    {
      "cell_type": "code",
      "source": [
        "import matplotlib.pyplot as plt\n",
        "\n",
        "# Fonction pour afficher un spectrogramme\n",
        "def plot_spectrogram(spectrogram):\n",
        "    plt.figure(figsize=(10, 4))\n",
        "    librosa.display.specshow(librosa.power_to_db(spectrogram, ref=np.max),\n",
        "                             y_axis='mel', fmax=8000,\n",
        "                             x_axis='time')\n",
        "    plt.colorbar(format='%+2.0f dB')\n",
        "    plt.title('Spectrogram')\n",
        "    plt.show()\n",
        "\n",
        "# Afficher les spectrogrammes\n",
        "for i, spectrogram in enumerate(spectrogram, 1):\n",
        "    print(f\"Spectrogramme {i}:\")\n",
        "    plot_spectrogram(spectrogram)"
      ],
      "metadata": {
        "colab": {
          "base_uri": "https://localhost:8080/",
          "height": 391
        },
        "id": "zOpuWR3i_k-U",
        "outputId": "b18eec64-4811-4b22-fc4b-f616587f7e2b"
      },
      "execution_count": null,
      "outputs": [
        {
          "output_type": "stream",
          "name": "stdout",
          "text": [
            "Spectrogramme 1:\n"
          ]
        },
        {
          "output_type": "error",
          "ename": "IndexError",
          "evalue": "tuple index out of range",
          "traceback": [
            "\u001b[0;31m---------------------------------------------------------------------------\u001b[0m",
            "\u001b[0;31mIndexError\u001b[0m                                Traceback (most recent call last)",
            "\u001b[0;32m<ipython-input-3-7826139485a9>\u001b[0m in \u001b[0;36m<cell line: 14>\u001b[0;34m()\u001b[0m\n\u001b[1;32m     14\u001b[0m \u001b[0;32mfor\u001b[0m \u001b[0mi\u001b[0m\u001b[0;34m,\u001b[0m \u001b[0mspectrogram\u001b[0m \u001b[0;32min\u001b[0m \u001b[0menumerate\u001b[0m\u001b[0;34m(\u001b[0m\u001b[0mspectrogram\u001b[0m\u001b[0;34m,\u001b[0m \u001b[0;36m1\u001b[0m\u001b[0;34m)\u001b[0m\u001b[0;34m:\u001b[0m\u001b[0;34m\u001b[0m\u001b[0;34m\u001b[0m\u001b[0m\n\u001b[1;32m     15\u001b[0m     \u001b[0mprint\u001b[0m\u001b[0;34m(\u001b[0m\u001b[0;34mf\"Spectrogramme {i}:\"\u001b[0m\u001b[0;34m)\u001b[0m\u001b[0;34m\u001b[0m\u001b[0;34m\u001b[0m\u001b[0m\n\u001b[0;32m---> 16\u001b[0;31m     \u001b[0mplot_spectrogram\u001b[0m\u001b[0;34m(\u001b[0m\u001b[0mspectrogram\u001b[0m\u001b[0;34m)\u001b[0m\u001b[0;34m\u001b[0m\u001b[0;34m\u001b[0m\u001b[0m\n\u001b[0m",
            "\u001b[0;32m<ipython-input-3-7826139485a9>\u001b[0m in \u001b[0;36mplot_spectrogram\u001b[0;34m(spectrogram)\u001b[0m\n\u001b[1;32m      4\u001b[0m \u001b[0;32mdef\u001b[0m \u001b[0mplot_spectrogram\u001b[0m\u001b[0;34m(\u001b[0m\u001b[0mspectrogram\u001b[0m\u001b[0;34m)\u001b[0m\u001b[0;34m:\u001b[0m\u001b[0;34m\u001b[0m\u001b[0;34m\u001b[0m\u001b[0m\n\u001b[1;32m      5\u001b[0m     \u001b[0mplt\u001b[0m\u001b[0;34m.\u001b[0m\u001b[0mfigure\u001b[0m\u001b[0;34m(\u001b[0m\u001b[0mfigsize\u001b[0m\u001b[0;34m=\u001b[0m\u001b[0;34m(\u001b[0m\u001b[0;36m10\u001b[0m\u001b[0;34m,\u001b[0m \u001b[0;36m4\u001b[0m\u001b[0;34m)\u001b[0m\u001b[0;34m)\u001b[0m\u001b[0;34m\u001b[0m\u001b[0;34m\u001b[0m\u001b[0m\n\u001b[0;32m----> 6\u001b[0;31m     librosa.display.specshow(librosa.power_to_db(spectrogram, ref=np.max),\n\u001b[0m\u001b[1;32m      7\u001b[0m                              \u001b[0my_axis\u001b[0m\u001b[0;34m=\u001b[0m\u001b[0;34m'mel'\u001b[0m\u001b[0;34m,\u001b[0m \u001b[0mfmax\u001b[0m\u001b[0;34m=\u001b[0m\u001b[0;36m8000\u001b[0m\u001b[0;34m,\u001b[0m\u001b[0;34m\u001b[0m\u001b[0;34m\u001b[0m\u001b[0m\n\u001b[1;32m      8\u001b[0m                              x_axis='time')\n",
            "\u001b[0;32m/usr/local/lib/python3.10/dist-packages/librosa/display.py\u001b[0m in \u001b[0;36mspecshow\u001b[0;34m(data, x_coords, y_coords, x_axis, y_axis, sr, hop_length, n_fft, win_length, fmin, fmax, tuning, bins_per_octave, key, Sa, mela, thaat, auto_aspect, htk, unicode, intervals, unison, ax, **kwargs)\u001b[0m\n\u001b[1;32m   1202\u001b[0m     \u001b[0;31m# Get the x and y coordinates\u001b[0m\u001b[0;34m\u001b[0m\u001b[0;34m\u001b[0m\u001b[0m\n\u001b[1;32m   1203\u001b[0m     \u001b[0my_coords\u001b[0m \u001b[0;34m=\u001b[0m \u001b[0m__mesh_coords\u001b[0m\u001b[0;34m(\u001b[0m\u001b[0my_axis\u001b[0m\u001b[0;34m,\u001b[0m \u001b[0my_coords\u001b[0m\u001b[0;34m,\u001b[0m \u001b[0mdata\u001b[0m\u001b[0;34m.\u001b[0m\u001b[0mshape\u001b[0m\u001b[0;34m[\u001b[0m\u001b[0;36m0\u001b[0m\u001b[0;34m]\u001b[0m\u001b[0;34m,\u001b[0m \u001b[0;34m**\u001b[0m\u001b[0mall_params\u001b[0m\u001b[0;34m)\u001b[0m\u001b[0;34m\u001b[0m\u001b[0;34m\u001b[0m\u001b[0m\n\u001b[0;32m-> 1204\u001b[0;31m     \u001b[0mx_coords\u001b[0m \u001b[0;34m=\u001b[0m \u001b[0m__mesh_coords\u001b[0m\u001b[0;34m(\u001b[0m\u001b[0mx_axis\u001b[0m\u001b[0;34m,\u001b[0m \u001b[0mx_coords\u001b[0m\u001b[0;34m,\u001b[0m \u001b[0mdata\u001b[0m\u001b[0;34m.\u001b[0m\u001b[0mshape\u001b[0m\u001b[0;34m[\u001b[0m\u001b[0;36m1\u001b[0m\u001b[0;34m]\u001b[0m\u001b[0;34m,\u001b[0m \u001b[0;34m**\u001b[0m\u001b[0mall_params\u001b[0m\u001b[0;34m)\u001b[0m\u001b[0;34m\u001b[0m\u001b[0;34m\u001b[0m\u001b[0m\n\u001b[0m\u001b[1;32m   1205\u001b[0m \u001b[0;34m\u001b[0m\u001b[0m\n\u001b[1;32m   1206\u001b[0m     \u001b[0maxes\u001b[0m \u001b[0;34m=\u001b[0m \u001b[0m__check_axes\u001b[0m\u001b[0;34m(\u001b[0m\u001b[0max\u001b[0m\u001b[0;34m)\u001b[0m\u001b[0;34m\u001b[0m\u001b[0;34m\u001b[0m\u001b[0m\n",
            "\u001b[0;31mIndexError\u001b[0m: tuple index out of range"
          ]
        },
        {
          "output_type": "display_data",
          "data": {
            "text/plain": [
              "<Figure size 1000x400 with 0 Axes>"
            ]
          },
          "metadata": {}
        }
      ]
    },
    {
      "cell_type": "markdown",
      "source": [
        "Padding et troncage (non fonctionnel)"
      ],
      "metadata": {
        "id": "60aMZiV2XpsU"
      }
    },
    {
      "cell_type": "code",
      "source": [
        "import numpy as np\n",
        "import librosa\n",
        "\n",
        "#Forme théorique du jeu de données\n",
        "#X_train = [\n",
        "#    [spectrogram11, spectrogram12, spectrogram13, ...],  # Playlist 1\n",
        "#    [spectrogram21, spectrogram22, spectrogram23, ...],  # Playlist 2\n",
        "#    ...\n",
        "#]\n",
        "\n",
        "# Déterminer la longueur maximale des spectrogrammes\n",
        "max_length = max(len(spectrogram) for playlist in X_train for spectrogram in playlist)\n",
        "\n",
        "# Tronquer les playlists à une longueur maximale de 15 spectrogrammes\n",
        "for playlist in X_train:\n",
        "    if len(playlist) > 15:\n",
        "        playlist = playlist[:15]\n",
        "\n",
        "# Ajouter du padding aux spectrogrammes si nécessaire\n",
        "for playlist in X_train:\n",
        "    for spectrogram in playlist:\n",
        "        padding_width = max_length - len(spectrogram)\n",
        "        if padding_width > 0:\n",
        "            # Ajouter du padding à la fin de chaque spectrogramme\n",
        "            spectrogram = np.pad(spectrogram, [(0, padding_width), (0, 0)], mode='constant', constant_values=0)\n",
        "\n",
        "# Ajouter du padding aux playlists pour atteindre une longueur maximale de 15 spectrogrammes\n",
        "for playlist in X_train:\n",
        "    padding_width = 15 - len(playlist)\n",
        "    if padding_width > 0:\n",
        "        # Ajouter des playlists vides avec du padding\n",
        "        padding_playlist = np.zeros((padding_width, max_length, len(spectrogram[0])))\n",
        "        playlist.extend(padding_playlist)"
      ],
      "metadata": {
        "id": "R9qpzIgOXpXc"
      },
      "execution_count": null,
      "outputs": []
    },
    {
      "cell_type": "markdown",
      "source": [
        "Ajouter CNN feature encoder (Embedding)"
      ],
      "metadata": {
        "id": "A-zelNRrK3_J"
      }
    },
    {
      "cell_type": "code",
      "source": [
        "from keras.models import Sequential\n",
        "from keras.layers import Conv1D, MaxPooling1D, Flatten, Dense, Dropout\n",
        "\n",
        "def create_cnn_feature_encoder(input_shape):\n",
        "    model = Sequential()\n",
        "    model.add(Conv1D(16, 3, activation='relu', input_shape=input_shape))\n",
        "    model.add(MaxPooling1D(2))\n",
        "    model.add(Conv1D(32, 3, activation='relu'))\n",
        "    model.add(MaxPooling1D(2))\n",
        "    model.add(Flatten())\n",
        "    model.add(Dense(256, activation='relu'))\n",
        "    model.add(Dropout(0.1))\n",
        "    return model\n",
        "\n",
        "input_shape = X_train_array.shape[1:]\n",
        "cnn_feature_encoder = create_cnn_feature_encoder(input_shape)\n",
        "input_shape_shuffled = X_train_shuffled_array.shape[1:]\n",
        "cnn_feature_encoder_shuffled = create_cnn_feature_encoder(input_shape_shuffled)\n",
        "cnn_feature_encoder.summary()\n",
        "cnn_feature_encoder_shuffled.summary()"
      ],
      "metadata": {
        "colab": {
          "base_uri": "https://localhost:8080/"
        },
        "id": "97ZRdsawK7Am",
        "outputId": "6462c2ba-3ba8-469b-a64a-b62b4146964d"
      },
      "execution_count": null,
      "outputs": [
        {
          "output_type": "stream",
          "name": "stdout",
          "text": [
            "Model: \"sequential\"\n",
            "_________________________________________________________________\n",
            " Layer (type)                Output Shape              Param #   \n",
            "=================================================================\n",
            " conv1d (Conv1D)             (None, 126, 16)           1743040   \n",
            "                                                                 \n",
            " max_pooling1d (MaxPooling1  (None, 63, 16)            0         \n",
            " D)                                                              \n",
            "                                                                 \n",
            " conv1d_1 (Conv1D)           (None, 61, 32)            1568      \n",
            "                                                                 \n",
            " max_pooling1d_1 (MaxPoolin  (None, 30, 32)            0         \n",
            " g1D)                                                            \n",
            "                                                                 \n",
            " flatten (Flatten)           (None, 960)               0         \n",
            "                                                                 \n",
            " dense (Dense)               (None, 256)               246016    \n",
            "                                                                 \n",
            " dropout (Dropout)           (None, 256)               0         \n",
            "                                                                 \n",
            "=================================================================\n",
            "Total params: 1990624 (7.59 MB)\n",
            "Trainable params: 1990624 (7.59 MB)\n",
            "Non-trainable params: 0 (0.00 Byte)\n",
            "_________________________________________________________________\n",
            "Model: \"sequential_1\"\n",
            "_________________________________________________________________\n",
            " Layer (type)                Output Shape              Param #   \n",
            "=================================================================\n",
            " conv1d_2 (Conv1D)           (None, 126, 16)           1743040   \n",
            "                                                                 \n",
            " max_pooling1d_2 (MaxPoolin  (None, 63, 16)            0         \n",
            " g1D)                                                            \n",
            "                                                                 \n",
            " conv1d_3 (Conv1D)           (None, 61, 32)            1568      \n",
            "                                                                 \n",
            " max_pooling1d_3 (MaxPoolin  (None, 30, 32)            0         \n",
            " g1D)                                                            \n",
            "                                                                 \n",
            " flatten_1 (Flatten)         (None, 960)               0         \n",
            "                                                                 \n",
            " dense_1 (Dense)             (None, 256)               246016    \n",
            "                                                                 \n",
            " dropout_1 (Dropout)         (None, 256)               0         \n",
            "                                                                 \n",
            "=================================================================\n",
            "Total params: 1990624 (7.59 MB)\n",
            "Trainable params: 1990624 (7.59 MB)\n",
            "Non-trainable params: 0 (0.00 Byte)\n",
            "_________________________________________________________________\n"
          ]
        }
      ]
    },
    {
      "cell_type": "markdown",
      "source": [
        "Afficher la taille de l'embedding"
      ],
      "metadata": {
        "id": "bPYbX24csFx0"
      }
    },
    {
      "cell_type": "code",
      "source": [
        "print(\"Forme de cnn_embeddings :\", cnn_feature_encoder.shape)"
      ],
      "metadata": {
        "colab": {
          "base_uri": "https://localhost:8080/",
          "height": 141
        },
        "id": "2iBXUWXjhna2",
        "outputId": "1c7f5dd0-191d-48f6-bcbd-6a7a2eda6012"
      },
      "execution_count": null,
      "outputs": [
        {
          "output_type": "error",
          "ename": "AttributeError",
          "evalue": "'Sequential' object has no attribute 'shape'",
          "traceback": [
            "\u001b[0;31m---------------------------------------------------------------------------\u001b[0m",
            "\u001b[0;31mAttributeError\u001b[0m                            Traceback (most recent call last)",
            "\u001b[0;32m<ipython-input-6-3a37fbb89bc1>\u001b[0m in \u001b[0;36m<cell line: 1>\u001b[0;34m()\u001b[0m\n\u001b[0;32m----> 1\u001b[0;31m \u001b[0mprint\u001b[0m\u001b[0;34m(\u001b[0m\u001b[0;34m\"Forme de cnn_embeddings :\"\u001b[0m\u001b[0;34m,\u001b[0m \u001b[0mcnn_feature_encoder\u001b[0m\u001b[0;34m.\u001b[0m\u001b[0mshape\u001b[0m\u001b[0;34m)\u001b[0m\u001b[0;34m\u001b[0m\u001b[0;34m\u001b[0m\u001b[0m\n\u001b[0m",
            "\u001b[0;31mAttributeError\u001b[0m: 'Sequential' object has no attribute 'shape'"
          ]
        }
      ]
    },
    {
      "cell_type": "markdown",
      "source": [
        "Normalisation de l'embedding"
      ],
      "metadata": {
        "id": "NfbclgzsYUe2"
      }
    },
    {
      "cell_type": "code",
      "source": [
        "import tensorflow as tf\n",
        "\n",
        "# Fonction pour normaliser les embeddings de spectrogrammes\n",
        "def normalize_spectrogram_embeddings(embeddings):\n",
        "    mean = tf.reduce_mean(embeddings, axis=-1, keepdims=True)\n",
        "    std = tf.math.reduce_std(embeddings, axis=-1, keepdims=True)\n",
        "    normalized_embeddings = (embeddings - mean) / std\n",
        "    return normalized_embeddings\n",
        "\n",
        "# Utiliser le CNN feature encoder pour extraire les embeddings des spectrogrammes\n",
        "cnn_embeddings = cnn_feature_encoder.predict(X_train_array)\n",
        "cnn_embeddings_shuffled = cnn_feature_encoder_shuffled.predict(X_train_shuffled_array)\n",
        "print(cnn_embeddings.shape)\n",
        "print(cnn_embeddings_shuffled.shape)\n",
        "# Normaliser les embeddings des spectrogrammes\n",
        "cnn_embeddings_normalized = normalize_spectrogram_embeddings(cnn_embeddings)\n",
        "cnn_embeddings_normalized_shuffled = normalize_spectrogram_embeddings(cnn_embeddings_shuffled)\n",
        "print(cnn_embeddings_normalized)\n",
        "print(cnn_embeddings_normalized_shuffled)"
      ],
      "metadata": {
        "colab": {
          "base_uri": "https://localhost:8080/"
        },
        "id": "vVBpNLyfvh14",
        "outputId": "6108eace-21cd-47f2-f737-514d9cb490c6"
      },
      "execution_count": null,
      "outputs": [
        {
          "output_type": "stream",
          "name": "stdout",
          "text": [
            "1/1 [==============================] - 2s 2s/step\n",
            "1/1 [==============================] - 0s 166ms/step\n",
            "(5, 256)\n",
            "(5, 256)\n",
            "tf.Tensor(\n",
            "[[-0.6043079  -0.6799544   2.6263971  ...  0.24872983  0.26328525\n",
            "  -0.66510403]\n",
            " [-0.7375756   0.14448084 -0.03147489 ... -0.38765037 -0.13113047\n",
            "   1.1256063 ]\n",
            " [-0.7174008  -0.7174008  -0.7174008  ... -0.7174008   0.01669567\n",
            "  -0.36103794]\n",
            " [-0.60995185 -0.72020096 -0.72020096 ... -0.72020096  0.6960693\n",
            "  -0.72020096]\n",
            " [-0.6994889  -0.6994889  -0.09066016 ...  0.22671595  0.6623619\n",
            "  -0.4866835 ]], shape=(5, 256), dtype=float32)\n",
            "tf.Tensor(\n",
            "[[-0.718919   -0.718919    2.4917257  ... -0.03179738  0.15691097\n",
            "  -0.7160719 ]\n",
            " [-0.6324751  -0.6324751   2.081298   ... -0.6324751  -0.42220965\n",
            "  -0.6324751 ]\n",
            " [-0.72156423 -0.6966745   2.4653206  ...  0.23116782  2.1716535\n",
            "   0.45670703]\n",
            " [-0.36631006 -0.7126349   1.5864726  ...  0.44536567 -0.7126349\n",
            "   0.95909154]\n",
            " [-0.7495717  -0.14695044  1.4631256  ...  0.6828865  -0.4137889\n",
            "   0.9764417 ]], shape=(5, 256), dtype=float32)\n"
          ]
        }
      ]
    },
    {
      "cell_type": "code",
      "source": [
        "import matplotlib.pyplot as plt\n",
        "\n",
        "# Afficher les embeddings\n",
        "for i in range(3):  # Afficher les trois premiers embeddings\n",
        "    plt.figure(figsize=(6, 4))\n",
        "    plt.plot(cnn_embeddings[i])\n",
        "    plt.title(f\"Embedding {i+1}\")\n",
        "    plt.xlabel('Caractéristiques')\n",
        "    plt.ylabel('Valeur')\n",
        "    plt.show()"
      ],
      "metadata": {
        "id": "MWlBHYdhchkh"
      },
      "execution_count": null,
      "outputs": []
    },
    {
      "cell_type": "markdown",
      "source": [
        "Encodage positionnel v1"
      ],
      "metadata": {
        "id": "O4AyreWvvidV"
      }
    },
    {
      "cell_type": "code",
      "source": [
        "# Fonction pour ajouter l'encodage de position aux embeddings\n",
        "def positional_encoding(max_len, d_model):\n",
        "    pos = tf.range(max_len, dtype=tf.float32)[:, tf.newaxis]\n",
        "    i = tf.range(d_model, dtype=tf.float32)[tf.newaxis, :]\n",
        "    angle_rates = 1 / tf.pow(10000, (2 * (i // 2)) / tf.cast(d_model, tf.float32))\n",
        "    angle_rads = pos * angle_rates\n",
        "\n",
        "    # Utilise une opération sinus/cosinus pour encoder les positions\n",
        "    sines = tf.math.sin(angle_rads[:, 0::2])\n",
        "    cosines = tf.math.cos(angle_rads[:, 1::2])\n",
        "\n",
        "    # Concatène les sinus et cosinus pour former l'encodage de position\n",
        "    pos_encoding = tf.concat([sines, cosines], axis=-1)\n",
        "    pos_encoding = pos_encoding[tf.newaxis, ...]\n",
        "    return tf.cast(pos_encoding, tf.float32)"
      ],
      "metadata": {
        "id": "fD_ZXjBmvsC7"
      },
      "execution_count": null,
      "outputs": []
    },
    {
      "cell_type": "markdown",
      "source": [
        "Encodage positionnel v2 (Meilleure version que la v1)"
      ],
      "metadata": {
        "id": "BlEV_iD6YhL7"
      }
    },
    {
      "cell_type": "code",
      "source": [
        "import tensorflow as tf\n",
        "import numpy as np\n",
        "\n",
        "def positional_encoding(num_positions, d_model):\n",
        "\n",
        "    pos = tf.range(num_positions, dtype=tf.float32)[:, tf.newaxis]\n",
        "    i = tf.range(d_model, dtype=tf.float32)[tf.newaxis, :]\n",
        "    angle_rates = 1 / tf.pow(10000, (2 * (i // 2)) / tf.cast(d_model, tf.float32))\n",
        "    angle_rads = pos * angle_rates\n",
        "\n",
        "    # Appliquer le sinus aux indices pairs dans le tableau ; 2i\n",
        "    sines = tf.math.sin(angle_rads[:, 0::2])\n",
        "\n",
        "    # Appliquer le cosinus aux indices impairs dans le tableau ; 2i+1\n",
        "    cosines = tf.math.cos(angle_rads[:, 1::2])\n",
        "\n",
        "    # Concaténer les sinus et les cosinus pour former le codage positionnel\n",
        "    pos_encoding = tf.concat([sines, cosines], axis=-1)\n",
        "    pos_encoding = pos_encoding[:, tf.newaxis, :]  # (position, 1, d_model)\n",
        "\n",
        "    return tf.cast(pos_encoding, tf.float32)\n",
        "\n",
        "# Ajuster num_positions et d_model selon vos dimensions d'incorporation\n",
        "num_positions = cnn_embeddings_normalized.shape[0]  # Nombre de spectrogrammes\n",
        "d_model = cnn_embeddings_normalized.shape[-1] # Dimension du modèle\n",
        "pos_encoding = positional_encoding(num_positions, d_model)\n",
        "print(pos_encoding.shape)\n",
        "\n",
        "num_positions_shuffled = cnn_embeddings_normalized_shuffled.shape[0]\n",
        "d_model_shuffled = cnn_embeddings_normalized_shuffled.shape[-1]\n",
        "pos_encoding_shuffled = positional_encoding(num_positions_shuffled, d_model_shuffled)\n",
        "print(pos_encoding_shuffled.shape)"
      ],
      "metadata": {
        "colab": {
          "base_uri": "https://localhost:8080/"
        },
        "id": "oqcACikzYte0",
        "outputId": "20a9fb29-8cef-4d33-afd2-e3f2eacd1aa0"
      },
      "execution_count": null,
      "outputs": [
        {
          "output_type": "stream",
          "name": "stdout",
          "text": [
            "(5, 1, 256)\n",
            "(5, 1, 256)\n"
          ]
        }
      ]
    },
    {
      "cell_type": "markdown",
      "source": [
        "On additionne l'encodage positionnel avec les données modifiées avec l'embedding"
      ],
      "metadata": {
        "id": "LNrOcYbHubpO"
      }
    },
    {
      "cell_type": "code",
      "source": [
        "# Déterminer la longueur maximale des spectrogrammes après le padding/troncature\n",
        "# max_length = X_train_array.shape[2]\n",
        "\n",
        "cnn_embeddings_with_position = cnn_embeddings_normalized + pos_encoding\n",
        "cnn_embeddings_with_position_shuffled = cnn_embeddings_normalized_shuffled + pos_encoding_shuffled\n",
        "# Vérifier la forme des embeddings avec l'encodage de position\n",
        "print(\"Forme des embeddings avec encodage de position :\", cnn_embeddings_with_position.shape)\n",
        "print(\"Forme des embeddings avec encodage de position shuffled :\", cnn_embeddings_with_position_shuffled.shape)"
      ],
      "metadata": {
        "colab": {
          "base_uri": "https://localhost:8080/"
        },
        "id": "ltxT7vvTeGRw",
        "outputId": "f9d66738-4a0a-460c-8e38-9c834434fe2a"
      },
      "execution_count": null,
      "outputs": [
        {
          "output_type": "stream",
          "name": "stdout",
          "text": [
            "Forme des embeddings avec encodage de position : (5, 5, 256)\n",
            "Forme des embeddings avec encodage de position shuffled : (5, 5, 256)\n"
          ]
        }
      ]
    },
    {
      "cell_type": "markdown",
      "source": [
        "Créer un masque d'attention ? (étape non nécessaire)"
      ],
      "metadata": {
        "id": "jFiuTULXvsiN"
      }
    },
    {
      "cell_type": "code",
      "source": [
        "#Exemple théorique :\n",
        "#def create_padding_mask(seq):\n",
        "#    seq = tf.cast(tf.math.equal(seq, 0), tf.float32)\n",
        "    # Ajoute une dimension supplémentaire pour indiquer la séquence de padding\n",
        "#    return seq[:, tf.newaxis, tf.newaxis, :]  # (batch_size, 1, 1, seq_len)\n"
      ],
      "metadata": {
        "id": "Y_LMbVSEv1f8"
      },
      "execution_count": null,
      "outputs": []
    },
    {
      "cell_type": "markdown",
      "source": [
        "On définit les paramètres de l'encodeur"
      ],
      "metadata": {
        "id": "8U53YdbOv14z"
      }
    },
    {
      "cell_type": "code",
      "source": [
        "from tensorflow.keras import layers, Model\n",
        "\n",
        "def transformer_encoder(num_heads, key_dim, d_model, num_positions, dropout_rate=0.1):\n",
        "    inputs = layers.Input(shape=(num_positions, d_model))\n",
        "\n",
        "    # Multi-Head Attention 1\n",
        "    attention_output1 = layers.MultiHeadAttention(num_heads=num_heads, key_dim=key_dim)(inputs, inputs)\n",
        "    attention_output1 = layers.Dropout(dropout_rate)(attention_output1)\n",
        "    attention_output1 = layers.LayerNormalization(epsilon=1e-6)(attention_output1 + inputs)\n",
        "\n",
        "    # Position-wise Feed-Forward Network\n",
        "    outputs = layers.Dense(d_model, activation='relu')(attention_output1)\n",
        "    outputs = layers.Dropout(dropout_rate)(outputs)\n",
        "    outputs = layers.LayerNormalization(epsilon=1e-6)(outputs + attention_output1)\n",
        "    return Model(inputs=inputs, outputs=outputs)\n",
        "\n",
        "# Exemple d'utilisation\n",
        "encoder_model = transformer_encoder(num_heads=8, key_dim=64, d_model=d_model, num_positions=num_positions)\n",
        "encoder_model.summary()"
      ],
      "metadata": {
        "colab": {
          "base_uri": "https://localhost:8080/"
        },
        "id": "iI0O-w49wvx5",
        "outputId": "44c86bac-09fc-402b-ceac-70eb79fa3175"
      },
      "execution_count": null,
      "outputs": [
        {
          "output_type": "stream",
          "name": "stdout",
          "text": [
            "Model: \"model\"\n",
            "__________________________________________________________________________________________________\n",
            " Layer (type)                Output Shape                 Param #   Connected to                  \n",
            "==================================================================================================\n",
            " input_1 (InputLayer)        [(None, 5, 256)]             0         []                            \n",
            "                                                                                                  \n",
            " multi_head_attention (Mult  (None, 5, 256)               526080    ['input_1[0][0]',             \n",
            " iHeadAttention)                                                     'input_1[0][0]']             \n",
            "                                                                                                  \n",
            " dropout_2 (Dropout)         (None, 5, 256)               0         ['multi_head_attention[0][0]']\n",
            "                                                                                                  \n",
            " tf.__operators__.add (TFOp  (None, 5, 256)               0         ['dropout_2[0][0]',           \n",
            " Lambda)                                                             'input_1[0][0]']             \n",
            "                                                                                                  \n",
            " layer_normalization (Layer  (None, 5, 256)               512       ['tf.__operators__.add[0][0]']\n",
            " Normalization)                                                                                   \n",
            "                                                                                                  \n",
            " dense_2 (Dense)             (None, 5, 256)               65792     ['layer_normalization[0][0]'] \n",
            "                                                                                                  \n",
            " dropout_3 (Dropout)         (None, 5, 256)               0         ['dense_2[0][0]']             \n",
            "                                                                                                  \n",
            " tf.__operators__.add_1 (TF  (None, 5, 256)               0         ['dropout_3[0][0]',           \n",
            " OpLambda)                                                           'layer_normalization[0][0]'] \n",
            "                                                                                                  \n",
            " layer_normalization_1 (Lay  (None, 5, 256)               512       ['tf.__operators__.add_1[0][0]\n",
            " erNormalization)                                                   ']                            \n",
            "                                                                                                  \n",
            "==================================================================================================\n",
            "Total params: 592896 (2.26 MB)\n",
            "Trainable params: 592896 (2.26 MB)\n",
            "Non-trainable params: 0 (0.00 Byte)\n",
            "__________________________________________________________________________________________________\n"
          ]
        }
      ]
    },
    {
      "cell_type": "markdown",
      "source": [
        "On définit les paramètres du décodeur"
      ],
      "metadata": {
        "id": "Zujmn0Tlj6mh"
      }
    },
    {
      "cell_type": "code",
      "source": [
        "from tensorflow.keras import layers, Model\n",
        "\n",
        "def transformer_decoder(num_heads, key_dim, d_model_shuffled, num_positions_shuffled, dropout_rate=0.1):\n",
        "    inputs = layers.Input(shape=(num_positions_shuffled, d_model_shuffled))\n",
        "\n",
        "    # Multi-Head Attention 1\n",
        "    attention_output1 = layers.MultiHeadAttention(num_heads=num_heads, key_dim=key_dim)(inputs, inputs)\n",
        "    attention_output1 = layers.Dropout(dropout_rate)(attention_output1)\n",
        "    attention_output1 = layers.LayerNormalization(epsilon=1e-6)(attention_output1 + inputs)\n",
        "\n",
        "    # Multi-Head Attention 2\n",
        "    encoder_output = layers.Input(shape=(num_positions, d_model))  # Ajouter l'entrée de l'encodeur ici\n",
        "    attention_output2 = layers.MultiHeadAttention(num_heads=num_heads, key_dim=key_dim)(attention_output1, encoder_output)\n",
        "    attention_output2 = layers.Dropout(dropout_rate)(attention_output2)\n",
        "    attention_output2 = layers.LayerNormalization(epsilon=1e-6)(attention_output2 + attention_output1)\n",
        "\n",
        "    # Position-wise Feed-Forward Network\n",
        "    outputs = layers.Dense(d_model, activation='relu')(attention_output2)\n",
        "    outputs = layers.Dropout(dropout_rate)(outputs)\n",
        "    outputs = layers.LayerNormalization(epsilon=1e-6)(outputs + attention_output2)\n",
        "\n",
        "    # Ajout d'une couche de sortie pour trier les embeddings\n",
        "    sorted_outputs = layers.Dense(d_model, activation='relu')(outputs)\n",
        "    sorted_outputs = layers.Dense(d_model, activation='relu')(sorted_outputs)\n",
        "    sorted_outputs = layers.Dense(num_positions_shuffled, activation='softmax')(sorted_outputs)\n",
        "\n",
        "    return Model(inputs=[inputs, encoder_output], outputs=sorted_outputs)\n",
        "\n",
        "# Exemple d'utilisation\n",
        "decoder_model = transformer_decoder(num_heads=8, key_dim=64, d_model_shuffled=d_model_shuffled, num_positions_shuffled=num_positions_shuffled)\n",
        "decoder_model.summary()\n"
      ],
      "metadata": {
        "colab": {
          "base_uri": "https://localhost:8080/"
        },
        "id": "3MiAWQYfkBET",
        "outputId": "e88a7f1f-c3c0-4a33-b08e-bfa8cc4fe6db"
      },
      "execution_count": null,
      "outputs": [
        {
          "output_type": "stream",
          "name": "stdout",
          "text": [
            "Model: \"model_1\"\n",
            "__________________________________________________________________________________________________\n",
            " Layer (type)                Output Shape                 Param #   Connected to                  \n",
            "==================================================================================================\n",
            " input_2 (InputLayer)        [(None, 5, 256)]             0         []                            \n",
            "                                                                                                  \n",
            " multi_head_attention_1 (Mu  (None, 5, 256)               526080    ['input_2[0][0]',             \n",
            " ltiHeadAttention)                                                   'input_2[0][0]']             \n",
            "                                                                                                  \n",
            " dropout_4 (Dropout)         (None, 5, 256)               0         ['multi_head_attention_1[0][0]\n",
            "                                                                    ']                            \n",
            "                                                                                                  \n",
            " tf.__operators__.add_2 (TF  (None, 5, 256)               0         ['dropout_4[0][0]',           \n",
            " OpLambda)                                                           'input_2[0][0]']             \n",
            "                                                                                                  \n",
            " layer_normalization_2 (Lay  (None, 5, 256)               512       ['tf.__operators__.add_2[0][0]\n",
            " erNormalization)                                                   ']                            \n",
            "                                                                                                  \n",
            " input_3 (InputLayer)        [(None, 5, 256)]             0         []                            \n",
            "                                                                                                  \n",
            " multi_head_attention_2 (Mu  (None, 5, 256)               526080    ['layer_normalization_2[0][0]'\n",
            " ltiHeadAttention)                                                  , 'input_3[0][0]']            \n",
            "                                                                                                  \n",
            " dropout_5 (Dropout)         (None, 5, 256)               0         ['multi_head_attention_2[0][0]\n",
            "                                                                    ']                            \n",
            "                                                                                                  \n",
            " tf.__operators__.add_3 (TF  (None, 5, 256)               0         ['dropout_5[0][0]',           \n",
            " OpLambda)                                                           'layer_normalization_2[0][0]'\n",
            "                                                                    ]                             \n",
            "                                                                                                  \n",
            " layer_normalization_3 (Lay  (None, 5, 256)               512       ['tf.__operators__.add_3[0][0]\n",
            " erNormalization)                                                   ']                            \n",
            "                                                                                                  \n",
            " dense_3 (Dense)             (None, 5, 256)               65792     ['layer_normalization_3[0][0]'\n",
            "                                                                    ]                             \n",
            "                                                                                                  \n",
            " dropout_6 (Dropout)         (None, 5, 256)               0         ['dense_3[0][0]']             \n",
            "                                                                                                  \n",
            " tf.__operators__.add_4 (TF  (None, 5, 256)               0         ['dropout_6[0][0]',           \n",
            " OpLambda)                                                           'layer_normalization_3[0][0]'\n",
            "                                                                    ]                             \n",
            "                                                                                                  \n",
            " layer_normalization_4 (Lay  (None, 5, 256)               512       ['tf.__operators__.add_4[0][0]\n",
            " erNormalization)                                                   ']                            \n",
            "                                                                                                  \n",
            " dense_4 (Dense)             (None, 5, 256)               65792     ['layer_normalization_4[0][0]'\n",
            "                                                                    ]                             \n",
            "                                                                                                  \n",
            " dense_5 (Dense)             (None, 5, 256)               65792     ['dense_4[0][0]']             \n",
            "                                                                                                  \n",
            " dense_6 (Dense)             (None, 5, 5)                 1285      ['dense_5[0][0]']             \n",
            "                                                                                                  \n",
            "==================================================================================================\n",
            "Total params: 1252357 (4.78 MB)\n",
            "Trainable params: 1252357 (4.78 MB)\n",
            "Non-trainable params: 0 (0.00 Byte)\n",
            "__________________________________________________________________________________________________\n"
          ]
        }
      ]
    },
    {
      "cell_type": "markdown",
      "source": [
        "On construit le modèle complet (travail en cours)"
      ],
      "metadata": {
        "id": "KURRQP79kBnL"
      }
    },
    {
      "cell_type": "code",
      "source": [
        "#Construction du modèle complet\n",
        "num_layers = 2\n",
        "num_heads = 4\n",
        "ff_dim = 256\n",
        "dropout_rate = 0.1\n",
        "\n",
        "encoder_model = encoder(\n",
        "    num_layers=num_layers,\n",
        "    num_heads=num_heads,\n",
        "    ff_dim=ff_dim,\n",
        "    input_shape=(sequence_length, num_features),  # sequence_length et num_features à définir\n",
        "    dropout_rate=dropout_rate,\n",
        ")\n"
      ],
      "metadata": {
        "id": "sGRWrQplkVph"
      },
      "execution_count": null,
      "outputs": []
    },
    {
      "cell_type": "markdown",
      "source": [
        "Compilation du modèle"
      ],
      "metadata": {
        "id": "v05TTBsPkabU"
      }
    },
    {
      "cell_type": "code",
      "source": [
        "from tensorflow.keras.optimizers import Adam\n",
        "from tensorflow.keras.losses import MeanSquaredError\n",
        "import tensorflow.keras.metrics\n",
        "# Compilation de l'encodeur\n",
        "encoder_model.compile(optimizer=Adam(), loss=MeanSquaredError(), metrics=['accuracy'])\n",
        "\n",
        "# Compilation du decodeur\n",
        "decoder_model.compile(optimizer=Adam(), loss=MeanSquaredError(), metrics=['accuracy'])"
      ],
      "metadata": {
        "id": "rMn01Cj3kkv2"
      },
      "execution_count": null,
      "outputs": []
    },
    {
      "cell_type": "markdown",
      "source": [
        "Entrainement du modèle"
      ],
      "metadata": {
        "id": "vqsvJr7iknYJ"
      }
    },
    {
      "cell_type": "code",
      "source": [
        "print(cnn_embeddings_normalized)"
      ],
      "metadata": {
        "id": "ytIrcfXqjrjX"
      },
      "execution_count": null,
      "outputs": []
    },
    {
      "cell_type": "code",
      "source": [
        "# Importer les modèles\n",
        "import tensorflow as tf\n",
        "from tensorflow.keras.models import Model\n",
        "\n",
        "# Définir les données d'entraînement\n",
        "X_train_encoder = cnn_embeddings_with_position\n",
        "X_train_decoder = cnn_embeddings_with_position_shuffled\n",
        "\n",
        "# Il n'y a pas de données labelisées pour cette configuration\n",
        "y_train = None\n",
        "\n",
        "class DataGenerator(tf.keras.utils.Sequence):\n",
        "    def __init__(self, x_encoder, x_decoder, batch_size):\n",
        "        self.x_encoder = x_encoder\n",
        "        self.x_decoder = x_decoder\n",
        "        self.batch_size = batch_size\n",
        "        self.indexes = np.arange(len(self.x_encoder))\n",
        "\n",
        "    def __len__(self):\n",
        "        return len(self.x_encoder) // self.batch_size\n",
        "\n",
        "    def __getitem__(self, index):\n",
        "        indexes = self.indexes[index * self.batch_size:(index + 1) * self.batch_size]\n",
        "        x_encoder_batch = tf.gather(self.x_encoder, indexes)\n",
        "        x_decoder_batch = tf.gather(self.x_decoder, indexes)\n",
        "        return [x_encoder_batch, x_decoder_batch], None\n",
        "\n",
        "# Batch size adapté selon la taille des données\n",
        "batch_size = 5  # Vous avez seulement 5 spectrogrammes\n",
        "\n",
        "# Nombre d'époques\n",
        "epochs = 200\n",
        "\n",
        "\n",
        "# Créer une instance du générateur de données pour l'ensemble des données\n",
        "train_generator = DataGenerator(X_train_encoder, X_train_decoder, batch_size)\n",
        "\n",
        "# Compiler le modèle en spécifiant la métrique d'accuracy\n",
        "encoder_model.compile(optimizer=Adam(), loss=MeanSquaredError(), metrics=['accuracy'])\n",
        "\n",
        "# Entraîner le modèle en utilisant le générateur de données pour l'ensemble des données\n",
        "history_encoder = encoder_model.fit(\n",
        "    train_generator,\n",
        "    epochs=epochs,\n",
        ")\n",
        "\n",
        "# Afficher les courbes d'apprentissage pour l'encoder\n",
        "plt.plot(history_encoder.history['loss'], label='train_loss_encoder')\n",
        "plt.plot(history_encoder.history['accuracy'], label='train_accuracy_encoder')\n",
        "plt.xlabel('Epochs')\n",
        "plt.ylabel('Loss & Accuracy')\n",
        "plt.legend()\n",
        "plt.show()\n"
      ],
      "metadata": {
        "colab": {
          "base_uri": "https://localhost:8080/",
          "height": 1000
        },
        "id": "dC6nZ6hOkrvg",
        "outputId": "62085985-ff82-4a0c-af9e-0160a458424d"
      },
      "execution_count": null,
      "outputs": [
        {
          "output_type": "stream",
          "name": "stdout",
          "text": [
            "Epoch 1/200\n",
            "1/1 [==============================] - 3s 3s/step - loss: 0.1282 - accuracy: 0.6000\n",
            "Epoch 2/200\n",
            "1/1 [==============================] - 0s 22ms/step - loss: 0.1414 - accuracy: 0.4000\n",
            "Epoch 3/200\n",
            "1/1 [==============================] - 0s 26ms/step - loss: 0.1317 - accuracy: 0.6400\n",
            "Epoch 4/200\n",
            "1/1 [==============================] - 0s 22ms/step - loss: 0.1372 - accuracy: 0.6400\n",
            "Epoch 5/200\n",
            "1/1 [==============================] - 0s 22ms/step - loss: 0.1391 - accuracy: 0.4400\n",
            "Epoch 6/200\n",
            "1/1 [==============================] - 0s 23ms/step - loss: 0.1373 - accuracy: 0.7600\n",
            "Epoch 7/200\n",
            "1/1 [==============================] - 0s 22ms/step - loss: 0.1311 - accuracy: 0.7600\n",
            "Epoch 8/200\n",
            "1/1 [==============================] - 0s 25ms/step - loss: 0.1295 - accuracy: 0.8400\n",
            "Epoch 9/200\n",
            "1/1 [==============================] - 0s 22ms/step - loss: 0.1359 - accuracy: 0.6400\n",
            "Epoch 10/200\n",
            "1/1 [==============================] - 0s 24ms/step - loss: 0.1239 - accuracy: 0.5600\n",
            "Epoch 11/200\n",
            "1/1 [==============================] - 0s 23ms/step - loss: 0.1290 - accuracy: 0.6000\n",
            "Epoch 12/200\n",
            "1/1 [==============================] - 0s 26ms/step - loss: 0.1293 - accuracy: 0.5600\n",
            "Epoch 13/200\n",
            "1/1 [==============================] - 0s 24ms/step - loss: 0.1172 - accuracy: 0.6800\n",
            "Epoch 14/200\n",
            "1/1 [==============================] - 0s 25ms/step - loss: 0.1240 - accuracy: 0.6000\n",
            "Epoch 15/200\n",
            "1/1 [==============================] - 0s 24ms/step - loss: 0.1192 - accuracy: 0.5600\n",
            "Epoch 16/200\n",
            "1/1 [==============================] - 0s 22ms/step - loss: 0.1238 - accuracy: 0.6000\n",
            "Epoch 17/200\n",
            "1/1 [==============================] - 0s 23ms/step - loss: 0.1225 - accuracy: 0.6000\n",
            "Epoch 18/200\n",
            "1/1 [==============================] - 0s 23ms/step - loss: 0.1215 - accuracy: 0.5200\n",
            "Epoch 19/200\n",
            "1/1 [==============================] - 0s 25ms/step - loss: 0.1206 - accuracy: 0.4800\n",
            "Epoch 20/200\n",
            "1/1 [==============================] - 0s 24ms/step - loss: 0.1100 - accuracy: 0.6400\n",
            "Epoch 21/200\n",
            "1/1 [==============================] - 0s 23ms/step - loss: 0.1138 - accuracy: 0.4000\n",
            "Epoch 22/200\n",
            "1/1 [==============================] - 0s 26ms/step - loss: 0.1141 - accuracy: 0.6400\n",
            "Epoch 23/200\n",
            "1/1 [==============================] - 0s 24ms/step - loss: 0.1253 - accuracy: 0.6400\n",
            "Epoch 24/200\n",
            "1/1 [==============================] - 0s 24ms/step - loss: 0.1134 - accuracy: 0.6000\n",
            "Epoch 25/200\n",
            "1/1 [==============================] - 0s 24ms/step - loss: 0.1132 - accuracy: 0.6000\n",
            "Epoch 26/200\n",
            "1/1 [==============================] - 0s 24ms/step - loss: 0.1147 - accuracy: 0.5200\n",
            "Epoch 27/200\n",
            "1/1 [==============================] - 0s 24ms/step - loss: 0.1153 - accuracy: 0.5600\n",
            "Epoch 28/200\n",
            "1/1 [==============================] - 0s 23ms/step - loss: 0.1160 - accuracy: 0.5600\n",
            "Epoch 29/200\n",
            "1/1 [==============================] - 0s 22ms/step - loss: 0.1034 - accuracy: 0.5600\n",
            "Epoch 30/200\n",
            "1/1 [==============================] - 0s 23ms/step - loss: 0.1134 - accuracy: 0.7200\n",
            "Epoch 31/200\n",
            "1/1 [==============================] - 0s 22ms/step - loss: 0.1135 - accuracy: 0.4800\n",
            "Epoch 32/200\n",
            "1/1 [==============================] - 0s 22ms/step - loss: 0.1096 - accuracy: 0.5600\n",
            "Epoch 33/200\n",
            "1/1 [==============================] - 0s 22ms/step - loss: 0.1092 - accuracy: 0.7600\n",
            "Epoch 34/200\n",
            "1/1 [==============================] - 0s 22ms/step - loss: 0.1065 - accuracy: 0.6800\n",
            "Epoch 35/200\n",
            "1/1 [==============================] - 0s 24ms/step - loss: 0.1103 - accuracy: 0.6400\n",
            "Epoch 36/200\n",
            "1/1 [==============================] - 0s 23ms/step - loss: 0.1091 - accuracy: 0.8000\n",
            "Epoch 37/200\n",
            "1/1 [==============================] - 0s 24ms/step - loss: 0.1117 - accuracy: 0.7200\n",
            "Epoch 38/200\n",
            "1/1 [==============================] - 0s 24ms/step - loss: 0.1068 - accuracy: 0.5600\n",
            "Epoch 39/200\n",
            "1/1 [==============================] - 0s 23ms/step - loss: 0.1234 - accuracy: 0.6400\n",
            "Epoch 40/200\n",
            "1/1 [==============================] - 0s 21ms/step - loss: 0.1068 - accuracy: 0.5200\n",
            "Epoch 41/200\n",
            "1/1 [==============================] - 0s 22ms/step - loss: 0.1063 - accuracy: 0.6000\n",
            "Epoch 42/200\n",
            "1/1 [==============================] - 0s 23ms/step - loss: 0.1048 - accuracy: 0.5600\n",
            "Epoch 43/200\n",
            "1/1 [==============================] - 0s 22ms/step - loss: 0.1020 - accuracy: 0.5200\n",
            "Epoch 44/200\n",
            "1/1 [==============================] - 0s 23ms/step - loss: 0.1023 - accuracy: 0.7200\n",
            "Epoch 45/200\n",
            "1/1 [==============================] - 0s 24ms/step - loss: 0.1031 - accuracy: 0.5200\n",
            "Epoch 46/200\n",
            "1/1 [==============================] - 0s 22ms/step - loss: 0.1039 - accuracy: 0.6000\n",
            "Epoch 47/200\n",
            "1/1 [==============================] - 0s 23ms/step - loss: 0.1061 - accuracy: 0.5200\n",
            "Epoch 48/200\n",
            "1/1 [==============================] - 0s 23ms/step - loss: 0.1105 - accuracy: 0.4000\n",
            "Epoch 49/200\n",
            "1/1 [==============================] - 0s 22ms/step - loss: 0.1046 - accuracy: 0.7600\n",
            "Epoch 50/200\n",
            "1/1 [==============================] - 0s 24ms/step - loss: 0.1066 - accuracy: 0.6000\n",
            "Epoch 51/200\n",
            "1/1 [==============================] - 0s 23ms/step - loss: 0.1014 - accuracy: 0.6400\n",
            "Epoch 52/200\n",
            "1/1 [==============================] - 0s 24ms/step - loss: 0.0929 - accuracy: 0.8000\n",
            "Epoch 53/200\n",
            "1/1 [==============================] - 0s 23ms/step - loss: 0.1016 - accuracy: 0.7200\n",
            "Epoch 54/200\n",
            "1/1 [==============================] - 0s 23ms/step - loss: 0.0962 - accuracy: 0.7200\n",
            "Epoch 55/200\n",
            "1/1 [==============================] - 0s 23ms/step - loss: 0.0890 - accuracy: 0.7200\n",
            "Epoch 56/200\n",
            "1/1 [==============================] - 0s 24ms/step - loss: 0.1016 - accuracy: 0.4800\n",
            "Epoch 57/200\n",
            "1/1 [==============================] - 0s 23ms/step - loss: 0.0960 - accuracy: 0.7200\n",
            "Epoch 58/200\n",
            "1/1 [==============================] - 0s 22ms/step - loss: 0.0959 - accuracy: 0.6000\n",
            "Epoch 59/200\n",
            "1/1 [==============================] - 0s 23ms/step - loss: 0.0940 - accuracy: 0.6000\n",
            "Epoch 60/200\n",
            "1/1 [==============================] - 0s 23ms/step - loss: 0.0943 - accuracy: 0.5600\n",
            "Epoch 61/200\n",
            "1/1 [==============================] - 0s 22ms/step - loss: 0.0908 - accuracy: 0.5600\n",
            "Epoch 62/200\n",
            "1/1 [==============================] - 0s 23ms/step - loss: 0.0975 - accuracy: 0.6000\n",
            "Epoch 63/200\n",
            "1/1 [==============================] - 0s 23ms/step - loss: 0.0947 - accuracy: 0.5200\n",
            "Epoch 64/200\n",
            "1/1 [==============================] - 0s 23ms/step - loss: 0.0934 - accuracy: 0.6000\n",
            "Epoch 65/200\n",
            "1/1 [==============================] - 0s 22ms/step - loss: 0.0990 - accuracy: 0.5200\n",
            "Epoch 66/200\n",
            "1/1 [==============================] - 0s 22ms/step - loss: 0.0942 - accuracy: 0.4400\n",
            "Epoch 67/200\n",
            "1/1 [==============================] - 0s 21ms/step - loss: 0.0922 - accuracy: 0.5200\n",
            "Epoch 68/200\n",
            "1/1 [==============================] - 0s 23ms/step - loss: 0.0958 - accuracy: 0.6800\n",
            "Epoch 69/200\n",
            "1/1 [==============================] - 0s 23ms/step - loss: 0.0959 - accuracy: 0.6400\n",
            "Epoch 70/200\n",
            "1/1 [==============================] - 0s 23ms/step - loss: 0.0958 - accuracy: 0.6400\n",
            "Epoch 71/200\n",
            "1/1 [==============================] - 0s 23ms/step - loss: 0.0945 - accuracy: 0.6400\n",
            "Epoch 72/200\n",
            "1/1 [==============================] - 0s 22ms/step - loss: 0.0952 - accuracy: 0.6000\n",
            "Epoch 73/200\n",
            "1/1 [==============================] - 0s 24ms/step - loss: 0.0893 - accuracy: 0.6000\n",
            "Epoch 74/200\n",
            "1/1 [==============================] - 0s 25ms/step - loss: 0.0987 - accuracy: 0.7600\n",
            "Epoch 75/200\n",
            "1/1 [==============================] - 0s 23ms/step - loss: 0.0928 - accuracy: 0.7200\n",
            "Epoch 76/200\n",
            "1/1 [==============================] - 0s 23ms/step - loss: 0.0932 - accuracy: 0.5200\n",
            "Epoch 77/200\n",
            "1/1 [==============================] - 0s 23ms/step - loss: 0.0874 - accuracy: 0.5200\n",
            "Epoch 78/200\n",
            "1/1 [==============================] - 0s 23ms/step - loss: 0.0903 - accuracy: 0.6400\n",
            "Epoch 79/200\n",
            "1/1 [==============================] - 0s 23ms/step - loss: 0.0873 - accuracy: 0.7600\n",
            "Epoch 80/200\n",
            "1/1 [==============================] - 0s 21ms/step - loss: 0.0928 - accuracy: 0.6000\n",
            "Epoch 81/200\n",
            "1/1 [==============================] - 0s 23ms/step - loss: 0.0906 - accuracy: 0.6000\n",
            "Epoch 82/200\n",
            "1/1 [==============================] - 0s 24ms/step - loss: 0.0902 - accuracy: 0.6400\n",
            "Epoch 83/200\n",
            "1/1 [==============================] - 0s 23ms/step - loss: 0.0816 - accuracy: 0.6400\n",
            "Epoch 84/200\n",
            "1/1 [==============================] - 0s 24ms/step - loss: 0.0956 - accuracy: 0.4800\n",
            "Epoch 85/200\n",
            "1/1 [==============================] - 0s 23ms/step - loss: 0.0881 - accuracy: 0.7200\n",
            "Epoch 86/200\n",
            "1/1 [==============================] - 0s 24ms/step - loss: 0.0785 - accuracy: 0.7600\n",
            "Epoch 87/200\n",
            "1/1 [==============================] - 0s 24ms/step - loss: 0.0908 - accuracy: 0.4800\n",
            "Epoch 88/200\n",
            "1/1 [==============================] - 0s 23ms/step - loss: 0.0863 - accuracy: 0.6400\n",
            "Epoch 89/200\n",
            "1/1 [==============================] - 0s 23ms/step - loss: 0.0854 - accuracy: 0.6000\n",
            "Epoch 90/200\n",
            "1/1 [==============================] - 0s 24ms/step - loss: 0.0848 - accuracy: 0.6400\n",
            "Epoch 91/200\n",
            "1/1 [==============================] - 0s 23ms/step - loss: 0.0878 - accuracy: 0.7200\n",
            "Epoch 92/200\n",
            "1/1 [==============================] - 0s 24ms/step - loss: 0.0916 - accuracy: 0.5600\n",
            "Epoch 93/200\n",
            "1/1 [==============================] - 0s 23ms/step - loss: 0.0912 - accuracy: 0.7600\n",
            "Epoch 94/200\n",
            "1/1 [==============================] - 0s 23ms/step - loss: 0.0837 - accuracy: 0.6400\n",
            "Epoch 95/200\n",
            "1/1 [==============================] - 0s 23ms/step - loss: 0.0903 - accuracy: 0.6000\n",
            "Epoch 96/200\n",
            "1/1 [==============================] - 0s 23ms/step - loss: 0.0893 - accuracy: 0.5600\n",
            "Epoch 97/200\n",
            "1/1 [==============================] - 0s 23ms/step - loss: 0.0859 - accuracy: 0.6400\n",
            "Epoch 98/200\n",
            "1/1 [==============================] - 0s 23ms/step - loss: 0.0844 - accuracy: 0.6800\n",
            "Epoch 99/200\n",
            "1/1 [==============================] - 0s 23ms/step - loss: 0.0857 - accuracy: 0.5200\n",
            "Epoch 100/200\n",
            "1/1 [==============================] - 0s 23ms/step - loss: 0.0870 - accuracy: 0.6800\n",
            "Epoch 101/200\n",
            "1/1 [==============================] - 0s 23ms/step - loss: 0.0906 - accuracy: 0.7200\n",
            "Epoch 102/200\n",
            "1/1 [==============================] - 0s 22ms/step - loss: 0.0851 - accuracy: 0.6800\n",
            "Epoch 103/200\n",
            "1/1 [==============================] - 0s 23ms/step - loss: 0.0815 - accuracy: 0.8000\n",
            "Epoch 104/200\n",
            "1/1 [==============================] - 0s 22ms/step - loss: 0.0856 - accuracy: 0.7200\n",
            "Epoch 105/200\n",
            "1/1 [==============================] - 0s 21ms/step - loss: 0.0812 - accuracy: 0.6800\n",
            "Epoch 106/200\n",
            "1/1 [==============================] - 0s 23ms/step - loss: 0.0896 - accuracy: 0.8000\n",
            "Epoch 107/200\n",
            "1/1 [==============================] - 0s 22ms/step - loss: 0.0771 - accuracy: 0.6800\n",
            "Epoch 108/200\n",
            "1/1 [==============================] - 0s 23ms/step - loss: 0.0794 - accuracy: 0.6400\n",
            "Epoch 109/200\n",
            "1/1 [==============================] - 0s 24ms/step - loss: 0.0817 - accuracy: 0.6000\n",
            "Epoch 110/200\n",
            "1/1 [==============================] - 0s 24ms/step - loss: 0.0793 - accuracy: 0.7600\n",
            "Epoch 111/200\n",
            "1/1 [==============================] - 0s 23ms/step - loss: 0.0824 - accuracy: 0.5200\n",
            "Epoch 112/200\n",
            "1/1 [==============================] - 0s 23ms/step - loss: 0.0789 - accuracy: 0.4800\n",
            "Epoch 113/200\n",
            "1/1 [==============================] - 0s 23ms/step - loss: 0.0760 - accuracy: 0.7200\n",
            "Epoch 114/200\n",
            "1/1 [==============================] - 0s 23ms/step - loss: 0.0819 - accuracy: 0.6400\n",
            "Epoch 115/200\n",
            "1/1 [==============================] - 0s 22ms/step - loss: 0.0779 - accuracy: 0.5600\n",
            "Epoch 116/200\n",
            "1/1 [==============================] - 0s 23ms/step - loss: 0.0855 - accuracy: 0.5600\n",
            "Epoch 117/200\n",
            "1/1 [==============================] - 0s 23ms/step - loss: 0.0765 - accuracy: 0.7600\n",
            "Epoch 118/200\n",
            "1/1 [==============================] - 0s 23ms/step - loss: 0.0787 - accuracy: 0.4800\n",
            "Epoch 119/200\n",
            "1/1 [==============================] - 0s 23ms/step - loss: 0.0720 - accuracy: 0.4800\n",
            "Epoch 120/200\n",
            "1/1 [==============================] - 0s 24ms/step - loss: 0.0815 - accuracy: 0.5200\n",
            "Epoch 121/200\n",
            "1/1 [==============================] - 0s 24ms/step - loss: 0.0816 - accuracy: 0.5600\n",
            "Epoch 122/200\n",
            "1/1 [==============================] - 0s 23ms/step - loss: 0.0808 - accuracy: 0.6800\n",
            "Epoch 123/200\n",
            "1/1 [==============================] - 0s 24ms/step - loss: 0.0849 - accuracy: 0.6400\n",
            "Epoch 124/200\n",
            "1/1 [==============================] - 0s 23ms/step - loss: 0.0779 - accuracy: 0.4000\n",
            "Epoch 125/200\n",
            "1/1 [==============================] - 0s 25ms/step - loss: 0.0840 - accuracy: 0.4400\n",
            "Epoch 126/200\n",
            "1/1 [==============================] - 0s 24ms/step - loss: 0.0838 - accuracy: 0.6400\n",
            "Epoch 127/200\n",
            "1/1 [==============================] - 0s 23ms/step - loss: 0.0768 - accuracy: 0.8400\n",
            "Epoch 128/200\n",
            "1/1 [==============================] - 0s 23ms/step - loss: 0.0762 - accuracy: 0.6400\n",
            "Epoch 129/200\n",
            "1/1 [==============================] - 0s 22ms/step - loss: 0.0876 - accuracy: 0.6400\n",
            "Epoch 130/200\n",
            "1/1 [==============================] - 0s 22ms/step - loss: 0.0753 - accuracy: 0.7600\n",
            "Epoch 131/200\n",
            "1/1 [==============================] - 0s 22ms/step - loss: 0.0783 - accuracy: 0.8000\n",
            "Epoch 132/200\n",
            "1/1 [==============================] - 0s 24ms/step - loss: 0.0794 - accuracy: 0.5600\n",
            "Epoch 133/200\n",
            "1/1 [==============================] - 0s 24ms/step - loss: 0.0804 - accuracy: 0.5200\n",
            "Epoch 134/200\n",
            "1/1 [==============================] - 0s 24ms/step - loss: 0.0820 - accuracy: 0.6800\n",
            "Epoch 135/200\n",
            "1/1 [==============================] - 0s 24ms/step - loss: 0.0700 - accuracy: 0.6400\n",
            "Epoch 136/200\n",
            "1/1 [==============================] - 0s 24ms/step - loss: 0.0790 - accuracy: 0.5600\n",
            "Epoch 137/200\n",
            "1/1 [==============================] - 0s 24ms/step - loss: 0.0820 - accuracy: 0.6400\n",
            "Epoch 138/200\n",
            "1/1 [==============================] - 0s 24ms/step - loss: 0.0753 - accuracy: 0.7200\n",
            "Epoch 139/200\n",
            "1/1 [==============================] - 0s 25ms/step - loss: 0.0695 - accuracy: 0.6800\n",
            "Epoch 140/200\n",
            "1/1 [==============================] - 0s 25ms/step - loss: 0.0789 - accuracy: 0.4800\n",
            "Epoch 141/200\n",
            "1/1 [==============================] - 0s 23ms/step - loss: 0.0728 - accuracy: 0.6400\n",
            "Epoch 142/200\n",
            "1/1 [==============================] - 0s 23ms/step - loss: 0.0791 - accuracy: 0.7200\n",
            "Epoch 143/200\n",
            "1/1 [==============================] - 0s 24ms/step - loss: 0.0783 - accuracy: 0.4800\n",
            "Epoch 144/200\n",
            "1/1 [==============================] - 0s 24ms/step - loss: 0.0715 - accuracy: 0.6400\n",
            "Epoch 145/200\n",
            "1/1 [==============================] - 0s 25ms/step - loss: 0.0759 - accuracy: 0.5600\n",
            "Epoch 146/200\n",
            "1/1 [==============================] - 0s 24ms/step - loss: 0.0716 - accuracy: 0.6800\n",
            "Epoch 147/200\n",
            "1/1 [==============================] - 0s 24ms/step - loss: 0.0771 - accuracy: 0.4800\n",
            "Epoch 148/200\n",
            "1/1 [==============================] - 0s 23ms/step - loss: 0.0737 - accuracy: 0.8000\n",
            "Epoch 149/200\n",
            "1/1 [==============================] - 0s 25ms/step - loss: 0.0805 - accuracy: 0.8000\n",
            "Epoch 150/200\n",
            "1/1 [==============================] - 0s 24ms/step - loss: 0.0788 - accuracy: 0.5200\n",
            "Epoch 151/200\n",
            "1/1 [==============================] - 0s 22ms/step - loss: 0.0717 - accuracy: 0.8400\n",
            "Epoch 152/200\n",
            "1/1 [==============================] - 0s 22ms/step - loss: 0.0741 - accuracy: 0.5600\n",
            "Epoch 153/200\n",
            "1/1 [==============================] - 0s 24ms/step - loss: 0.0664 - accuracy: 0.6400\n",
            "Epoch 154/200\n",
            "1/1 [==============================] - 0s 24ms/step - loss: 0.0683 - accuracy: 0.5200\n",
            "Epoch 155/200\n",
            "1/1 [==============================] - 0s 23ms/step - loss: 0.0681 - accuracy: 0.7200\n",
            "Epoch 156/200\n",
            "1/1 [==============================] - 0s 24ms/step - loss: 0.0702 - accuracy: 0.6400\n",
            "Epoch 157/200\n",
            "1/1 [==============================] - 0s 23ms/step - loss: 0.0677 - accuracy: 0.8000\n",
            "Epoch 158/200\n",
            "1/1 [==============================] - 0s 23ms/step - loss: 0.0735 - accuracy: 0.7200\n",
            "Epoch 159/200\n",
            "1/1 [==============================] - 0s 23ms/step - loss: 0.0740 - accuracy: 0.6400\n",
            "Epoch 160/200\n",
            "1/1 [==============================] - 0s 23ms/step - loss: 0.0771 - accuracy: 0.4800\n",
            "Epoch 161/200\n",
            "1/1 [==============================] - 0s 23ms/step - loss: 0.0657 - accuracy: 0.5600\n",
            "Epoch 162/200\n",
            "1/1 [==============================] - 0s 24ms/step - loss: 0.0687 - accuracy: 0.5200\n",
            "Epoch 163/200\n",
            "1/1 [==============================] - 0s 22ms/step - loss: 0.0792 - accuracy: 0.5600\n",
            "Epoch 164/200\n",
            "1/1 [==============================] - 0s 23ms/step - loss: 0.0708 - accuracy: 0.4400\n",
            "Epoch 165/200\n",
            "1/1 [==============================] - 0s 23ms/step - loss: 0.0745 - accuracy: 0.4800\n",
            "Epoch 166/200\n",
            "1/1 [==============================] - 0s 23ms/step - loss: 0.0813 - accuracy: 0.5600\n",
            "Epoch 167/200\n",
            "1/1 [==============================] - 0s 23ms/step - loss: 0.0754 - accuracy: 0.5600\n",
            "Epoch 168/200\n",
            "1/1 [==============================] - 0s 26ms/step - loss: 0.0713 - accuracy: 0.6000\n",
            "Epoch 169/200\n",
            "1/1 [==============================] - 0s 23ms/step - loss: 0.0650 - accuracy: 0.6400\n",
            "Epoch 170/200\n",
            "1/1 [==============================] - 0s 25ms/step - loss: 0.0696 - accuracy: 0.5600\n",
            "Epoch 171/200\n",
            "1/1 [==============================] - 0s 24ms/step - loss: 0.0729 - accuracy: 0.7600\n",
            "Epoch 172/200\n",
            "1/1 [==============================] - 0s 23ms/step - loss: 0.0733 - accuracy: 0.4800\n",
            "Epoch 173/200\n",
            "1/1 [==============================] - 0s 23ms/step - loss: 0.0711 - accuracy: 0.6800\n",
            "Epoch 174/200\n",
            "1/1 [==============================] - 0s 23ms/step - loss: 0.0662 - accuracy: 0.4000\n",
            "Epoch 175/200\n",
            "1/1 [==============================] - 0s 24ms/step - loss: 0.0704 - accuracy: 0.7200\n",
            "Epoch 176/200\n",
            "1/1 [==============================] - 0s 24ms/step - loss: 0.0747 - accuracy: 0.8400\n",
            "Epoch 177/200\n",
            "1/1 [==============================] - 0s 24ms/step - loss: 0.0783 - accuracy: 0.7600\n",
            "Epoch 178/200\n",
            "1/1 [==============================] - 0s 24ms/step - loss: 0.0719 - accuracy: 0.7600\n",
            "Epoch 179/200\n",
            "1/1 [==============================] - 0s 23ms/step - loss: 0.0696 - accuracy: 0.6800\n",
            "Epoch 180/200\n",
            "1/1 [==============================] - 0s 24ms/step - loss: 0.0714 - accuracy: 0.6400\n",
            "Epoch 181/200\n",
            "1/1 [==============================] - 0s 24ms/step - loss: 0.0711 - accuracy: 0.5600\n",
            "Epoch 182/200\n",
            "1/1 [==============================] - 0s 24ms/step - loss: 0.0643 - accuracy: 0.6400\n",
            "Epoch 183/200\n",
            "1/1 [==============================] - 0s 23ms/step - loss: 0.0685 - accuracy: 0.6800\n",
            "Epoch 184/200\n",
            "1/1 [==============================] - 0s 24ms/step - loss: 0.0657 - accuracy: 0.6800\n",
            "Epoch 185/200\n",
            "1/1 [==============================] - 0s 24ms/step - loss: 0.0687 - accuracy: 0.3600\n",
            "Epoch 186/200\n",
            "1/1 [==============================] - 0s 24ms/step - loss: 0.0673 - accuracy: 0.5600\n",
            "Epoch 187/200\n",
            "1/1 [==============================] - 0s 24ms/step - loss: 0.0686 - accuracy: 0.7200\n",
            "Epoch 188/200\n",
            "1/1 [==============================] - 0s 25ms/step - loss: 0.0726 - accuracy: 0.4800\n",
            "Epoch 189/200\n",
            "1/1 [==============================] - 0s 23ms/step - loss: 0.0707 - accuracy: 0.7600\n",
            "Epoch 190/200\n",
            "1/1 [==============================] - 0s 24ms/step - loss: 0.0694 - accuracy: 0.5600\n",
            "Epoch 191/200\n",
            "1/1 [==============================] - 0s 24ms/step - loss: 0.0607 - accuracy: 0.7600\n",
            "Epoch 192/200\n",
            "1/1 [==============================] - 0s 22ms/step - loss: 0.0634 - accuracy: 0.6400\n",
            "Epoch 193/200\n",
            "1/1 [==============================] - 0s 24ms/step - loss: 0.0667 - accuracy: 0.6000\n",
            "Epoch 194/200\n",
            "1/1 [==============================] - 0s 24ms/step - loss: 0.0699 - accuracy: 0.6400\n",
            "Epoch 195/200\n",
            "1/1 [==============================] - 0s 24ms/step - loss: 0.0702 - accuracy: 0.7600\n",
            "Epoch 196/200\n",
            "1/1 [==============================] - 0s 21ms/step - loss: 0.0682 - accuracy: 0.5600\n",
            "Epoch 197/200\n",
            "1/1 [==============================] - 0s 22ms/step - loss: 0.0724 - accuracy: 0.6000\n",
            "Epoch 198/200\n",
            "1/1 [==============================] - 0s 22ms/step - loss: 0.0678 - accuracy: 0.6800\n",
            "Epoch 199/200\n",
            "1/1 [==============================] - 0s 22ms/step - loss: 0.0712 - accuracy: 0.6800\n",
            "Epoch 200/200\n",
            "1/1 [==============================] - 0s 21ms/step - loss: 0.0597 - accuracy: 0.8800\n"
          ]
        },
        {
          "output_type": "display_data",
          "data": {
            "text/plain": [
              "<Figure size 640x480 with 1 Axes>"
            ],
            "image/png": "[encoded data removed]"
          },
          "metadata": {}
        }
      ]
    },
    {
      "cell_type": "code",
      "source": [
        "# Compiler le modèle en spécifiant la métrique d'accuracy\n",
        "decoder_model.compile(optimizer=Adam(), loss=MeanSquaredError(), metrics=['accuracy'])\n",
        "\n",
        "# Entraîner le modèle du décodeur en utilisant le générateur de données pour l'ensemble des données\n",
        "history_decoder = decoder_model.fit(\n",
        "    train_generator,\n",
        "    epochs=epochs,\n",
        ")\n",
        "\n",
        "# Afficher les courbes d'apprentissage pour le décodeur\n",
        "plt.plot(history_decoder.history['loss'], label='train_loss_decoder')\n",
        "plt.plot(history_decoder.history['accuracy'], label='train_accuracy_decoder')\n",
        "plt.xlabel('Epochs')\n",
        "plt.ylabel('Loss & Accuracy')\n",
        "plt.legend()\n",
        "plt.show()"
      ],
      "metadata": {
        "colab": {
          "base_uri": "https://localhost:8080/",
          "height": 738
        },
        "id": "KKjGC32JLQEp",
        "outputId": "cad9891a-d4de-4581-ff0b-8ad9a4eef8ab"
      },
      "execution_count": null,
      "outputs": [
        {
          "output_type": "stream",
          "name": "stdout",
          "text": [
            "Epoch 1/200\n"
          ]
        },
        {
          "output_type": "error",
          "ename": "ValueError",
          "evalue": "in user code:\n\n    File \"/usr/local/lib/python3.10/dist-packages/keras/src/engine/training.py\", line 1401, in train_function  *\n        return step_function(self, iterator)\n    File \"/usr/local/lib/python3.10/dist-packages/keras/src/engine/training.py\", line 1384, in step_function  **\n        outputs = model.distribute_strategy.run(run_step, args=(data,))\n    File \"/usr/local/lib/python3.10/dist-packages/keras/src/engine/training.py\", line 1373, in run_step  **\n        outputs = model.train_step(data)\n    File \"/usr/local/lib/python3.10/dist-packages/keras/src/engine/training.py\", line 1150, in train_step\n        y_pred = self(x, training=True)\n    File \"/usr/local/lib/python3.10/dist-packages/keras/src/utils/traceback_utils.py\", line 70, in error_handler\n        raise e.with_traceback(filtered_tb) from None\n    File \"/usr/local/lib/python3.10/dist-packages/keras/src/engine/input_spec.py\", line 219, in assert_input_compatibility\n        raise ValueError(\n\n    ValueError: Layer \"model_1\" expects 2 input(s), but it received 1 input tensors. Inputs received: [<tf.Tensor 'IteratorGetNext:0' shape=(None, None, None) dtype=float32>]\n",
          "traceback": [
            "\u001b[0;31m---------------------------------------------------------------------------\u001b[0m",
            "\u001b[0;31mValueError\u001b[0m                                Traceback (most recent call last)",
            "\u001b[0;32m<ipython-input-34-628defe71d37>\u001b[0m in \u001b[0;36m<cell line: 5>\u001b[0;34m()\u001b[0m\n\u001b[1;32m      3\u001b[0m \u001b[0;34m\u001b[0m\u001b[0m\n\u001b[1;32m      4\u001b[0m \u001b[0;31m# Entraîner le modèle du décodeur en utilisant le générateur de données pour l'ensemble des données\u001b[0m\u001b[0;34m\u001b[0m\u001b[0;34m\u001b[0m\u001b[0m\n\u001b[0;32m----> 5\u001b[0;31m history_decoder = decoder_model.fit(\n\u001b[0m\u001b[1;32m      6\u001b[0m     \u001b[0mtrain_generator\u001b[0m\u001b[0;34m,\u001b[0m\u001b[0;34m\u001b[0m\u001b[0;34m\u001b[0m\u001b[0m\n\u001b[1;32m      7\u001b[0m     \u001b[0mepochs\u001b[0m\u001b[0;34m=\u001b[0m\u001b[0mepochs\u001b[0m\u001b[0;34m,\u001b[0m\u001b[0;34m\u001b[0m\u001b[0;34m\u001b[0m\u001b[0m\n",
            "\u001b[0;32m/usr/local/lib/python3.10/dist-packages/keras/src/utils/traceback_utils.py\u001b[0m in \u001b[0;36merror_handler\u001b[0;34m(*args, **kwargs)\u001b[0m\n\u001b[1;32m     68\u001b[0m             \u001b[0;31m# To get the full stack trace, call:\u001b[0m\u001b[0;34m\u001b[0m\u001b[0;34m\u001b[0m\u001b[0m\n\u001b[1;32m     69\u001b[0m             \u001b[0;31m# `tf.debugging.disable_traceback_filtering()`\u001b[0m\u001b[0;34m\u001b[0m\u001b[0;34m\u001b[0m\u001b[0m\n\u001b[0;32m---> 70\u001b[0;31m             \u001b[0;32mraise\u001b[0m \u001b[0me\u001b[0m\u001b[0;34m.\u001b[0m\u001b[0mwith_traceback\u001b[0m\u001b[0;34m(\u001b[0m\u001b[0mfiltered_tb\u001b[0m\u001b[0;34m)\u001b[0m \u001b[0;32mfrom\u001b[0m \u001b[0;32mNone\u001b[0m\u001b[0;34m\u001b[0m\u001b[0;34m\u001b[0m\u001b[0m\n\u001b[0m\u001b[1;32m     71\u001b[0m         \u001b[0;32mfinally\u001b[0m\u001b[0;34m:\u001b[0m\u001b[0;34m\u001b[0m\u001b[0;34m\u001b[0m\u001b[0m\n\u001b[1;32m     72\u001b[0m             \u001b[0;32mdel\u001b[0m \u001b[0mfiltered_tb\u001b[0m\u001b[0;34m\u001b[0m\u001b[0;34m\u001b[0m\u001b[0m\n",
            "\u001b[0;32m/usr/local/lib/python3.10/dist-packages/keras/src/engine/training.py\u001b[0m in \u001b[0;36mtf__train_function\u001b[0;34m(iterator)\u001b[0m\n\u001b[1;32m     13\u001b[0m                 \u001b[0;32mtry\u001b[0m\u001b[0;34m:\u001b[0m\u001b[0;34m\u001b[0m\u001b[0;34m\u001b[0m\u001b[0m\n\u001b[1;32m     14\u001b[0m                     \u001b[0mdo_return\u001b[0m \u001b[0;34m=\u001b[0m \u001b[0;32mTrue\u001b[0m\u001b[0;34m\u001b[0m\u001b[0;34m\u001b[0m\u001b[0m\n\u001b[0;32m---> 15\u001b[0;31m                     \u001b[0mretval_\u001b[0m \u001b[0;34m=\u001b[0m \u001b[0mag__\u001b[0m\u001b[0;34m.\u001b[0m\u001b[0mconverted_call\u001b[0m\u001b[0;34m(\u001b[0m\u001b[0mag__\u001b[0m\u001b[0;34m.\u001b[0m\u001b[0mld\u001b[0m\u001b[0;34m(\u001b[0m\u001b[0mstep_function\u001b[0m\u001b[0;34m)\u001b[0m\u001b[0;34m,\u001b[0m \u001b[0;34m(\u001b[0m\u001b[0mag__\u001b[0m\u001b[0;34m.\u001b[0m\u001b[0mld\u001b[0m\u001b[0;34m(\u001b[0m\u001b[0mself\u001b[0m\u001b[0;34m)\u001b[0m\u001b[0;34m,\u001b[0m \u001b[0mag__\u001b[0m\u001b[0;34m.\u001b[0m\u001b[0mld\u001b[0m\u001b[0;34m(\u001b[0m\u001b[0miterator\u001b[0m\u001b[0;34m)\u001b[0m\u001b[0;34m)\u001b[0m\u001b[0;34m,\u001b[0m \u001b[0;32mNone\u001b[0m\u001b[0;34m,\u001b[0m \u001b[0mfscope\u001b[0m\u001b[0;34m)\u001b[0m\u001b[0;34m\u001b[0m\u001b[0;34m\u001b[0m\u001b[0m\n\u001b[0m\u001b[1;32m     16\u001b[0m                 \u001b[0;32mexcept\u001b[0m\u001b[0;34m:\u001b[0m\u001b[0;34m\u001b[0m\u001b[0;34m\u001b[0m\u001b[0m\n\u001b[1;32m     17\u001b[0m                     \u001b[0mdo_return\u001b[0m \u001b[0;34m=\u001b[0m \u001b[0;32mFalse\u001b[0m\u001b[0;34m\u001b[0m\u001b[0;34m\u001b[0m\u001b[0m\n",
            "\u001b[0;31mValueError\u001b[0m: in user code:\n\n    File \"/usr/local/lib/python3.10/dist-packages/keras/src/engine/training.py\", line 1401, in train_function  *\n        return step_function(self, iterator)\n    File \"/usr/local/lib/python3.10/dist-packages/keras/src/engine/training.py\", line 1384, in step_function  **\n        outputs = model.distribute_strategy.run(run_step, args=(data,))\n    File \"/usr/local/lib/python3.10/dist-packages/keras/src/engine/training.py\", line 1373, in run_step  **\n        outputs = model.train_step(data)\n    File \"/usr/local/lib/python3.10/dist-packages/keras/src/engine/training.py\", line 1150, in train_step\n        y_pred = self(x, training=True)\n    File \"/usr/local/lib/python3.10/dist-packages/keras/src/utils/traceback_utils.py\", line 70, in error_handler\n        raise e.with_traceback(filtered_tb) from None\n    File \"/usr/local/lib/python3.10/dist-packages/keras/src/engine/input_spec.py\", line 219, in assert_input_compatibility\n        raise ValueError(\n\n    ValueError: Layer \"model_1\" expects 2 input(s), but it received 1 input tensors. Inputs received: [<tf.Tensor 'IteratorGetNext:0' shape=(None, None, None) dtype=float32>]\n"
          ]
        }
      ]
    },
    {
      "cell_type": "markdown",
      "source": [
        "Evaluation du modèle"
      ],
      "metadata": {
        "id": "2F9RoPFskx6T"
      }
    },
    {
      "cell_type": "code",
      "source": [
        "#Insérer code ici"
      ],
      "metadata": {
        "id": "GQym_TPUk2b_"
      },
      "execution_count": null,
      "outputs": []
    },
    {
      "cell_type": "markdown",
      "source": [
        "Inférence du modèle"
      ],
      "metadata": {
        "id": "c6t_-OFck56G"
      }
    },
    {
      "cell_type": "code",
      "source": [
        "# Stratégie à adopter :\n",
        "\n",
        "# 1. Passer l'embedding de la nouvelle playlist dans le décodeur pour obtenir la sortie triée\n",
        "sorted_embedding = decoder_model.predict([new_playlist_embedding, encoder_output])\n",
        "\n",
        "# 2. Utiliser la sortie triée pour réordonner les spectrogrammes dans la nouvelle playlist\n",
        "# Supposons que sorted_embedding contient les embeddings triés, on utilise les indices des valeurs triées pour réordonner les spectrogrammes\n",
        "sorted_indices = np.argsort(sorted_embedding.flatten())  # Appliquer flatten pour s'assurer que les indices sont correctement triés\n",
        "sorted_playlist = [new_playlist[i] for i in sorted_indices]\n"
      ],
      "metadata": {
        "id": "DCYGE52nlAF8"
      },
      "execution_count": null,
      "outputs": []
    },
    {
      "cell_type": "markdown",
      "source": [
        "Sauvegarder le modèle"
      ],
      "metadata": {
        "id": "_7gie_pxlUHz"
      }
    },
    {
      "cell_type": "code",
      "source": [
        "#Insérer code ici"
      ],
      "metadata": {
        "id": "qyvLCa_RlWGD"
      },
      "execution_count": null,
      "outputs": []
    }
  ]
}