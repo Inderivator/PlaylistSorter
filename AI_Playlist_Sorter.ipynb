{
  "nbformat": 4,
  "nbformat_minor": 0,
  "metadata": {
    "colab": {
      "provenance": [],
      "authorship_tag": "ABX9TyMR0hnjtJIKHkSSs5k3hRpt",
      "include_colab_link": true
    },
    "kernelspec": {
      "name": "python3",
      "display_name": "Python 3"
    },
    "language_info": {
      "name": "python"
    }
  },
  "cells": [
    {
      "cell_type": "markdown",
      "metadata": {
        "id": "view-in-github",
        "colab_type": "text"
      },
      "source": [
        "<a href=\"https://colab.research.google.com/github/Inderivator/PlaylistSorter/blob/Playlist-sorter/AI_Playlist_Sorter.ipynb\" target=\"_parent\"><img src=\"https://colab.research.google.com/assets/colab-badge.svg\" alt=\"Open In Colab\"/></a>"
      ]
    },
    {
      "cell_type": "markdown",
      "source": [
        "Convert music sequences into spectrograms"
      ],
      "metadata": {
        "id": "SHb4VnLDJdgv"
      }
    },
    {
      "cell_type": "code",
      "execution_count": null,
      "metadata": {
        "id": "T_j9r4AWz1NI"
      },
      "outputs": [],
      "source": []
    },
    {
      "cell_type": "markdown",
      "source": [
        "Padding and Truncating"
      ],
      "metadata": {
        "id": "60aMZiV2XpsU"
      }
    },
    {
      "cell_type": "code",
      "source": [],
      "metadata": {
        "id": "R9qpzIgOXpXc"
      },
      "execution_count": null,
      "outputs": []
    },
    {
      "cell_type": "markdown",
      "source": [
        "Add CNN feature encoder"
      ],
      "metadata": {
        "id": "A-zelNRrK3_J"
      }
    },
    {
      "cell_type": "code",
      "source": [],
      "metadata": {
        "id": "97ZRdsawK7Am"
      },
      "execution_count": null,
      "outputs": []
    },
    {
      "cell_type": "markdown",
      "source": [
        "Embedding normalization ?"
      ],
      "metadata": {
        "id": "NfbclgzsYUe2"
      }
    },
    {
      "cell_type": "code",
      "source": [
        "# Fonction pour normaliser les embeddings de spectrogrammes\n",
        "def normalize_spectrogram_embeddings(embeddings):\n",
        "    mean = tf.reduce_mean(embeddings, axis=-1, keepdims=True)\n",
        "    std = tf.math.reduce_std(embeddings, axis=-1, keepdims=True)\n",
        "    normalized_embeddings = (embeddings - mean) / std\n",
        "    return normalized_embeddings"
      ],
      "metadata": {
        "id": "vVBpNLyfvh14"
      },
      "execution_count": null,
      "outputs": []
    },
    {
      "cell_type": "markdown",
      "source": [
        "Positional encoding ?"
      ],
      "metadata": {
        "id": "O4AyreWvvidV"
      }
    },
    {
      "cell_type": "code",
      "source": [
        "# Fonction pour ajouter l'encodage de position aux embeddings\n",
        "def positional_encoding(max_len, d_model):\n",
        "    pos = tf.range(max_len, dtype=tf.float32)[:, tf.newaxis]\n",
        "    i = tf.range(d_model, dtype=tf.float32)[tf.newaxis, :]\n",
        "    angle_rates = 1 / tf.pow(10000, (2 * (i // 2)) / tf.cast(d_model, tf.float32))\n",
        "    angle_rads = pos * angle_rates\n",
        "\n",
        "    # Utilise une opération sinus/cosinus pour encoder les positions\n",
        "    sines = tf.math.sin(angle_rads[:, 0::2])\n",
        "    cosines = tf.math.cos(angle_rads[:, 1::2])\n",
        "\n",
        "    # Concatène les sinus et cosinus pour former l'encodage de position\n",
        "    pos_encoding = tf.concat([sines, cosines], axis=-1)\n",
        "    pos_encoding = pos_encoding[tf.newaxis, ...]\n",
        "    return tf.cast(pos_encoding, tf.float32)"
      ],
      "metadata": {
        "id": "fD_ZXjBmvsC7"
      },
      "execution_count": null,
      "outputs": []
    },
    {
      "cell_type": "markdown",
      "source": [
        "Create attention masks ?"
      ],
      "metadata": {
        "id": "jFiuTULXvsiN"
      }
    },
    {
      "cell_type": "code",
      "source": [
        "#Example :\n",
        "def create_padding_mask(seq):\n",
        "    seq = tf.cast(tf.math.equal(seq, 0), tf.float32)\n",
        "    # Ajoute une dimension supplémentaire pour indiquer la séquence de padding\n",
        "    return seq[:, tf.newaxis, tf.newaxis, :]  # (batch_size, 1, 1, seq_len)\n"
      ],
      "metadata": {
        "id": "Y_LMbVSEv1f8"
      },
      "execution_count": null,
      "outputs": []
    },
    {
      "cell_type": "markdown",
      "source": [
        "Define parameters of the encoder"
      ],
      "metadata": {
        "id": "8U53YdbOv14z"
      }
    },
    {
      "cell_type": "code",
      "source": [
        "# Paramètres du modèle\n",
        "max_len = 100  # Longueur maximale de la séquence\n",
        "d_model = 256  # Dimension des embeddings\n",
        "\n",
        "# Création du masque de padding\n",
        "seq = tf.constant([[1, 2, 3, 0, 0]])\n",
        "padding_mask = create_padding_mask(seq)\n",
        "\n",
        "# Ajout de l'encodage de position\n",
        "pos_encoding = positional_encoding(max_len, d_model)\n",
        "\n",
        "# Normalisation des embeddings de spectrogrammes\n",
        "embeddings = tf.random.normal((1, max_len, d_model))\n",
        "normalized_embeddings = normalize_spectrogram_embeddings(embeddings)\n",
        "\n",
        "# Définition de l'architecture de l'encodeur\n",
        "inputs = layers.Input(shape=(max_len, d_model))\n",
        "encoder_output = layers.MultiHeadAttention(num_heads=8, key_dim=64)(inputs, inputs, attention_mask=padding_mask)\n",
        "encoder_output = layers.LayerNormalization(epsilon=1e-6)(encoder_output)\n",
        "encoder_output = layers.Dense(d_model, activation='relu')(encoder_output)\n",
        "\n",
        "# Création du modèle\n",
        "encoder_model = tf.keras.Model(inputs=inputs, outputs=encoder_output)\n",
        "\n",
        "# Affichage de l'architecture du modèle\n",
        "encoder_model.summary()"
      ],
      "metadata": {
        "id": "iI0O-w49wvx5"
      },
      "execution_count": null,
      "outputs": []
    },
    {
      "cell_type": "markdown",
      "source": [
        "Define parameters of the decoder"
      ],
      "metadata": {
        "id": "Zujmn0Tlj6mh"
      }
    },
    {
      "cell_type": "code",
      "source": [],
      "metadata": {
        "id": "3MiAWQYfkBET"
      },
      "execution_count": null,
      "outputs": []
    },
    {
      "cell_type": "markdown",
      "source": [
        "Build of the complete model"
      ],
      "metadata": {
        "id": "KURRQP79kBnL"
      }
    },
    {
      "cell_type": "code",
      "source": [
        "#Construction du modèle complet\n",
        "num_layers = 2\n",
        "num_heads = 4\n",
        "ff_dim = 256\n",
        "dropout_rate = 0.2\n",
        "\n",
        "encoder_model = encoder(\n",
        "    num_layers=num_layers,\n",
        "    num_heads=num_heads,\n",
        "    ff_dim=ff_dim,\n",
        "    input_shape=(sequence_length, num_features),  # sequence_length et num_features à définir\n",
        "    dropout_rate=dropout_rate,\n",
        ")\n"
      ],
      "metadata": {
        "id": "sGRWrQplkVph"
      },
      "execution_count": null,
      "outputs": []
    },
    {
      "cell_type": "markdown",
      "source": [
        " Compile the model"
      ],
      "metadata": {
        "id": "v05TTBsPkabU"
      }
    },
    {
      "cell_type": "code",
      "source": [
        "#Compilation du modèle\n",
        "optimizer = Adam(learning_rate=1e-4)\n",
        "encoder_model.compile(optimizer=optimizer, loss=\"mse\")  # Utilisez votre fonction de perte appropriée"
      ],
      "metadata": {
        "id": "rMn01Cj3kkv2"
      },
      "execution_count": null,
      "outputs": []
    },
    {
      "cell_type": "markdown",
      "source": [
        "Train the model"
      ],
      "metadata": {
        "id": "vqsvJr7iknYJ"
      }
    },
    {
      "cell_type": "code",
      "source": [
        "# Utilisez vos données d'entraînement (X_train, y_train) pour entraîner le modèle\n",
        "encoder_model.fit(X_train, y_train, epochs=10, batch_size=32, validation_split=0.2)\n"
      ],
      "metadata": {
        "id": "dC6nZ6hOkrvg"
      },
      "execution_count": null,
      "outputs": []
    },
    {
      "cell_type": "markdown",
      "source": [
        "Evaluate the model"
      ],
      "metadata": {
        "id": "2F9RoPFskx6T"
      }
    },
    {
      "cell_type": "code",
      "source": [
        "# Utilisez des données de validation ou de test (X_val, y_val) pour évaluer la performance du modèle\n",
        "loss = encoder_model.evaluate(X_val, y_val)\n"
      ],
      "metadata": {
        "id": "GQym_TPUk2b_"
      },
      "execution_count": null,
      "outputs": []
    },
    {
      "cell_type": "markdown",
      "source": [
        "Inference of the model"
      ],
      "metadata": {
        "id": "c6t_-OFck56G"
      }
    },
    {
      "cell_type": "code",
      "source": [
        "# Faites des prédictions sur de nouvelles données (X_test)\n",
        "predictions = encoder_model.predict(X_test)"
      ],
      "metadata": {
        "id": "DCYGE52nlAF8"
      },
      "execution_count": null,
      "outputs": []
    },
    {
      "cell_type": "markdown",
      "source": [
        "Save the model"
      ],
      "metadata": {
        "id": "_7gie_pxlUHz"
      }
    },
    {
      "cell_type": "code",
      "source": [
        "encoder_model.save(\"encoder_model.h5\")"
      ],
      "metadata": {
        "id": "qyvLCa_RlWGD"
      },
      "execution_count": null,
      "outputs": []
    }
  ]
}