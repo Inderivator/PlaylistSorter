{
  "nbformat": 4,
  "nbformat_minor": 0,
  "metadata": {
    "colab": {
      "provenance": [],
      "authorship_tag": "ABX9TyP5MdlAiushoYJSkydYoIXj",
      "include_colab_link": true
    },
    "kernelspec": {
      "name": "python3",
      "display_name": "Python 3"
    },
    "language_info": {
      "name": "python"
    }
  },
  "cells": [
    {
      "cell_type": "markdown",
      "metadata": {
        "id": "view-in-github",
        "colab_type": "text"
      },
      "source": [
        "<a href=\"https://colab.research.google.com/github/Inderivator/PlaylistSorter/blob/Playlist-sorter/AI_Playlist_Sorter.ipynb\" target=\"_parent\"><img src=\"https://colab.research.google.com/assets/colab-badge.svg\" alt=\"Open In Colab\"/></a>"
      ]
    },
    {
      "cell_type": "markdown",
      "source": [
        "Convert music sequences into spectrograms"
      ],
      "metadata": {
        "id": "SHb4VnLDJdgv"
      }
    },
    {
      "cell_type": "code",
      "execution_count": null,
      "metadata": {
        "id": "T_j9r4AWz1NI"
      },
      "outputs": [],
      "source": []
    },
    {
      "cell_type": "markdown",
      "source": [
        "Padding and Truncating"
      ],
      "metadata": {
        "id": "60aMZiV2XpsU"
      }
    },
    {
      "cell_type": "code",
      "source": [],
      "metadata": {
        "id": "R9qpzIgOXpXc"
      },
      "execution_count": null,
      "outputs": []
    },
    {
      "cell_type": "markdown",
      "source": [
        "Add CNN feature encoder"
      ],
      "metadata": {
        "id": "A-zelNRrK3_J"
      }
    },
    {
      "cell_type": "code",
      "source": [],
      "metadata": {
        "id": "97ZRdsawK7Am"
      },
      "execution_count": null,
      "outputs": []
    },
    {
      "cell_type": "markdown",
      "source": [
        "Embedding normalization ?"
      ],
      "metadata": {
        "id": "NfbclgzsYUe2"
      }
    },
    {
      "cell_type": "code",
      "source": [
        "# Fonction pour normaliser les embeddings de spectrogrammes\n",
        "def normalize_spectrogram_embeddings(embeddings):\n",
        "    mean = tf.reduce_mean(embeddings, axis=-1, keepdims=True)\n",
        "    std = tf.math.reduce_std(embeddings, axis=-1, keepdims=True)\n",
        "    normalized_embeddings = (embeddings - mean) / std\n",
        "    return normalized_embeddings"
      ],
      "metadata": {
        "id": "vVBpNLyfvh14"
      },
      "execution_count": null,
      "outputs": []
    },
    {
      "cell_type": "markdown",
      "source": [
        "Positional encoding ?"
      ],
      "metadata": {
        "id": "O4AyreWvvidV"
      }
    },
    {
      "cell_type": "code",
      "source": [
        "# Fonction pour ajouter l'encodage de position aux embeddings\n",
        "def positional_encoding(max_len, d_model):\n",
        "    pos = tf.range(max_len, dtype=tf.float32)[:, tf.newaxis]\n",
        "    i = tf.range(d_model, dtype=tf.float32)[tf.newaxis, :]\n",
        "    angle_rates = 1 / tf.pow(10000, (2 * (i // 2)) / tf.cast(d_model, tf.float32))\n",
        "    angle_rads = pos * angle_rates\n",
        "\n",
        "    # Utilise une opération sinus/cosinus pour encoder les positions\n",
        "    sines = tf.math.sin(angle_rads[:, 0::2])\n",
        "    cosines = tf.math.cos(angle_rads[:, 1::2])\n",
        "\n",
        "    # Concatène les sinus et cosinus pour former l'encodage de position\n",
        "    pos_encoding = tf.concat([sines, cosines], axis=-1)\n",
        "    pos_encoding = pos_encoding[tf.newaxis, ...]\n",
        "    return tf.cast(pos_encoding, tf.float32)"
      ],
      "metadata": {
        "id": "fD_ZXjBmvsC7"
      },
      "execution_count": null,
      "outputs": []
    },
    {
      "cell_type": "markdown",
      "source": [
        "Create attention masks ?"
      ],
      "metadata": {
        "id": "jFiuTULXvsiN"
      }
    },
    {
      "cell_type": "code",
      "source": [
        "#Example :\n",
        "def create_padding_mask(seq):\n",
        "    seq = tf.cast(tf.math.equal(seq, 0), tf.float32)\n",
        "    # Ajoute une dimension supplémentaire pour indiquer la séquence de padding\n",
        "    return seq[:, tf.newaxis, tf.newaxis, :]  # (batch_size, 1, 1, seq_len)\n"
      ],
      "metadata": {
        "id": "Y_LMbVSEv1f8"
      },
      "execution_count": null,
      "outputs": []
    },
    {
      "cell_type": "markdown",
      "source": [
        "Define parameters of the encoder"
      ],
      "metadata": {
        "id": "8U53YdbOv14z"
      }
    },
    {
      "cell_type": "code",
      "source": [
        "# Paramètres du modèle\n",
        "max_len = 100  # Longueur maximale de la séquence\n",
        "d_model = 256  # Dimension des embeddings\n",
        "\n",
        "# Création du masque de padding\n",
        "seq = tf.constant([[1, 2, 3, 0, 0]])\n",
        "padding_mask = create_padding_mask(seq)\n",
        "\n",
        "# Ajout de l'encodage de position\n",
        "pos_encoding = positional_encoding(max_len, d_model)\n",
        "\n",
        "# Normalisation des embeddings de spectrogrammes\n",
        "embeddings = tf.random.normal((1, max_len, d_model))\n",
        "normalized_embeddings = normalize_spectrogram_embeddings(embeddings)\n",
        "\n",
        "# Définition de l'architecture de l'encodeur\n",
        "inputs = layers.Input(shape=(max_len, d_model))\n",
        "encoder_output = layers.MultiHeadAttention(num_heads=8, key_dim=64)(inputs, inputs, attention_mask=padding_mask)\n",
        "encoder_output = layers.LayerNormalization(epsilon=1e-6)(encoder_output)\n",
        "encoder_output = layers.Dense(d_model, activation='relu')(encoder_output)\n",
        "\n",
        "# Création du modèle\n",
        "encoder_model = tf.keras.Model(inputs=inputs, outputs=encoder_output)\n",
        "\n",
        "# Affichage de l'architecture du modèle\n",
        "encoder_model.summary()"
      ],
      "metadata": {
        "id": "iI0O-w49wvx5"
      },
      "execution_count": null,
      "outputs": []
    }
  ]
}